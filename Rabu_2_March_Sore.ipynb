{
  "nbformat": 4,
  "nbformat_minor": 0,
  "metadata": {
    "colab": {
      "name": "Rabu_2_March_Sore.ipynb",
      "provenance": [],
      "collapsed_sections": []
    },
    "kernelspec": {
      "name": "python3",
      "display_name": "Python 3"
    },
    "language_info": {
      "name": "python"
    }
  },
  "cells": [
    {
      "cell_type": "markdown",
      "source": [
        "##No. 1\n",
        "\n",
        "Write a method is divisible that takes two integers, m and n. The method returns True if\n",
        "m is divisible by n, and returns False otherwise.\n"
      ],
      "metadata": {
        "id": "I9OwOqeyOyoT"
      }
    },
    {
      "cell_type": "code",
      "execution_count": null,
      "metadata": {
        "colab": {
          "base_uri": "https://localhost:8080/"
        },
        "id": "zYt_0BWPOV4f",
        "outputId": "5e3b5be8-6fce-4e64-9944-4c7cfd63ecad"
      },
      "outputs": [
        {
          "output_type": "stream",
          "name": "stdout",
          "text": [
            "True\n"
          ]
        }
      ],
      "source": [
        "m = 10\n",
        "n = 10\n",
        "\n",
        "habis_bagi = m % n\n",
        "if habis_bagi == 0:\n",
        "  print(True)\n",
        "else:\n",
        "  print(False)"
      ]
    },
    {
      "cell_type": "markdown",
      "source": [
        "### No. 2\n",
        "\n",
        "Write a function that first displays a simple caf´e menu (see example below), asks the user to enter\n",
        "the number of a choice, and either prints the appropriate action OR prints an error message that\n",
        "their choice was not valid.\n"
      ],
      "metadata": {
        "id": "qvdNab_9oJeG"
      }
    },
    {
      "cell_type": "code",
      "source": [
        "def main():\n",
        "  print (\"Menu\")\n",
        "  print (\"1. Soup and salad\")\n",
        "  print (\"2. Pasta with meat sauce\")\n",
        "  print (\"3. Chef’s special\")\n",
        "  print (\"Jika ingin keluar click 0\")\n",
        "\n",
        "main()\n",
        "pilihan = int(input(\"Which number would you like to order? \"))\n",
        "\n",
        "while True:\n",
        "  if pilihan == 1:\n",
        "    print(\"Soup and salad coming right up!\")\n",
        "  elif pilihan == 2:\n",
        "    print(\"One Pasta with meat sauce coming right up!\")\n",
        "  elif pilihan == 3:\n",
        "    print(\"One special chef is coming right up!\")\n",
        "  else:\n",
        "    print(\"tidak valid\")\n",
        "    break\n",
        "\n",
        "  print()\n",
        "  main()\n",
        "  pilihan = int(input(\"Which number would you like to order? \"))\n",
        "  \n",
        "print(\"Inputan Tidak benar\")"
      ],
      "metadata": {
        "id": "v10jtOo5Q6ak",
        "colab": {
          "base_uri": "https://localhost:8080/"
        },
        "outputId": "d3fd0dc4-4958-4ae3-9030-20881d31259b"
      },
      "execution_count": null,
      "outputs": [
        {
          "output_type": "stream",
          "name": "stdout",
          "text": [
            "Menu\n",
            "1. Soup and salad\n",
            "2. Pasta with meat sauce\n",
            "3. Chef’s special\n",
            "Jika ingin keluar click 0\n",
            "Which number would you like to order? 1\n",
            "Soup and salad coming right up!\n",
            "\n",
            "Menu\n",
            "1. Soup and salad\n",
            "2. Pasta with meat sauce\n",
            "3. Chef’s special\n",
            "Jika ingin keluar click 0\n",
            "Which number would you like to order? 2\n",
            "One Pasta with meat sauce coming right up!\n",
            "\n",
            "Menu\n",
            "1. Soup and salad\n",
            "2. Pasta with meat sauce\n",
            "3. Chef’s special\n",
            "Jika ingin keluar click 0\n",
            "Which number would you like to order? 3\n",
            "One special chef is coming right up!\n",
            "\n",
            "Menu\n",
            "1. Soup and salad\n",
            "2. Pasta with meat sauce\n",
            "3. Chef’s special\n",
            "Jika ingin keluar click 0\n",
            "Which number would you like to order? 4\n",
            "tidak valid\n",
            "Inputan Tidak benar\n"
          ]
        }
      ]
    },
    {
      "cell_type": "markdown",
      "source": [
        "## No. 3 \n",
        "Write a method rand_divis_3 that takes no parameters and returns True if a number is divisible by 3, and False otherwise."
      ],
      "metadata": {
        "id": "woSP2liKfNWq"
      }
    },
    {
      "cell_type": "code",
      "source": [
        "import random\n",
        "def rand_divis_3():\n",
        "    num = random.random() #no parameters ?\n",
        "    print (num)\n",
        "    if num % 3 == 0:\n",
        "        print (True)\n",
        "    else:\n",
        "        print (False)\n",
        "rand_divis_3()"
      ],
      "metadata": {
        "colab": {
          "base_uri": "https://localhost:8080/"
        },
        "id": "xSnfSsognli4",
        "outputId": "a1bac115-fb0d-4afa-9b8a-0f1e9c5b8499"
      },
      "execution_count": null,
      "outputs": [
        {
          "output_type": "stream",
          "name": "stdout",
          "text": [
            "0.48460594055246975\n",
            "False\n"
          ]
        }
      ]
    },
    {
      "cell_type": "markdown",
      "source": [
        "## No. 4 \n",
        "\n",
        "Imagine that Python doesn’t have the != operator built in. Write a method not equal that takes two parameters and gives the same result as the != operator. Obviously, you cannot use != within your function! Test if your code works by thinking of examples and making sure the output is the same for your new method as != gives you."
      ],
      "metadata": {
        "id": "Do6IIWTxgh8I"
      }
    },
    {
      "cell_type": "code",
      "source": [
        "a = 10\n",
        "b = 5\n",
        "\n",
        "\n",
        "if (a is not b):\n",
        "  print(\"a tidak sama dengan b\")\n",
        "else:\n",
        "  print(\"sama\")"
      ],
      "metadata": {
        "id": "pvJUn33OpUqX",
        "colab": {
          "base_uri": "https://localhost:8080/"
        },
        "outputId": "8b3c5cee-d4e1-480f-859f-d1d67de4189c"
      },
      "execution_count": 6,
      "outputs": [
        {
          "output_type": "stream",
          "name": "stdout",
          "text": [
            "a tidak sama dengan b\n"
          ]
        }
      ]
    },
    {
      "cell_type": "markdown",
      "source": [
        "##No. 5 \n",
        "What's wrong with this code?"
      ],
      "metadata": {
        "id": "3g-NJ5Z1-Fsv"
      }
    },
    {
      "cell_type": "code",
      "source": [
        "def ask_name(): \n",
        "  name = input(\"enter name: \")\n",
        "  return name #oke pertama kita harus mereturn name\n",
        "nama = ask_name() #disini harus di masukan ke variable karena yang tersimpan di ask_name() itu pointernya jadi di masukan ke dalam variable terlebih dahulu\n",
        "print(\"your name is\", nama)"
      ],
      "metadata": {
        "colab": {
          "base_uri": "https://localhost:8080/"
        },
        "id": "DGoDfIP_f-NT",
        "outputId": "331c0f23-3213-411c-cf16-2fd91aaaf98a"
      },
      "execution_count": 71,
      "outputs": [
        {
          "output_type": "stream",
          "name": "stdout",
          "text": [
            "enter name: asdfasgas\n",
            "your name is asdfasgas\n"
          ]
        }
      ]
    }
  ]
}