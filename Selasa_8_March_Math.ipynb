{
  "nbformat": 4,
  "nbformat_minor": 0,
  "metadata": {
    "colab": {
      "name": "Selasa_8_March_Math.ipynb",
      "provenance": [],
      "collapsed_sections": []
    },
    "kernelspec": {
      "name": "python3",
      "display_name": "Python 3"
    },
    "language_info": {
      "name": "python"
    }
  },
  "cells": [
    {
      "cell_type": "code",
      "execution_count": 2,
      "metadata": {
        "id": "Kx6zP_SZFEOL"
      },
      "outputs": [],
      "source": [
        "import numpy as np"
      ]
    },
    {
      "cell_type": "markdown",
      "source": [
        "##Belajar tentang 1d & 2d Array"
      ],
      "metadata": {
        "id": "MnI98EREIyWj"
      }
    },
    {
      "cell_type": "code",
      "source": [
        "#1D array\n",
        "a = np.array([3, 1, 5, 6])\n",
        "print('banyaknya entry = ', a.size)\n",
        "print('dimensi array = ', a.ndim)\n",
        "print('ukuran array = ', a.shape)"
      ],
      "metadata": {
        "colab": {
          "base_uri": "https://localhost:8080/"
        },
        "id": "HoZdsIAFFRRT",
        "outputId": "88214744-1a27-4739-9f86-6b453ba315ac"
      },
      "execution_count": 3,
      "outputs": [
        {
          "output_type": "stream",
          "name": "stdout",
          "text": [
            "banyaknya entry =  4\n",
            "dimensi array =  1\n",
            "ukuran array =  (4,)\n"
          ]
        }
      ]
    },
    {
      "cell_type": "code",
      "source": [
        "#Slicing\n",
        "a[1:]"
      ],
      "metadata": {
        "colab": {
          "base_uri": "https://localhost:8080/"
        },
        "id": "BN-BHtOHFmFj",
        "outputId": "d062af4f-2a74-4611-cd98-f0ff7c7cb551"
      },
      "execution_count": 4,
      "outputs": [
        {
          "output_type": "execute_result",
          "data": {
            "text/plain": [
              "array([1, 5, 6])"
            ]
          },
          "metadata": {},
          "execution_count": 4
        }
      ]
    },
    {
      "cell_type": "code",
      "source": [
        "print('a[1:3] = ', a[1:3])\n",
        "print('a[:3] = ', a[:3])"
      ],
      "metadata": {
        "colab": {
          "base_uri": "https://localhost:8080/"
        },
        "id": "CZSbxP9EFtoF",
        "outputId": "ca218b50-8faa-4b97-99ed-d51a3cb32ba7"
      },
      "execution_count": 5,
      "outputs": [
        {
          "output_type": "stream",
          "name": "stdout",
          "text": [
            "a[1:3] =  [1 5]\n",
            "a[:3] =  [3 1 5]\n"
          ]
        }
      ]
    },
    {
      "cell_type": "code",
      "source": [
        "#2D Array (Matriks)\n",
        "A = np.array([[1, 2, 3], [4, 5, 6], [7, 8, 9]])\n",
        "print(A)"
      ],
      "metadata": {
        "colab": {
          "base_uri": "https://localhost:8080/"
        },
        "id": "G9q6a9TvF3vZ",
        "outputId": "c9c137bf-5913-4c31-d6c3-1a98e3ace1db"
      },
      "execution_count": 6,
      "outputs": [
        {
          "output_type": "stream",
          "name": "stdout",
          "text": [
            "[[1 2 3]\n",
            " [4 5 6]\n",
            " [7 8 9]]\n"
          ]
        }
      ]
    },
    {
      "cell_type": "markdown",
      "source": [
        "##Latihan(2d Array)"
      ],
      "metadata": {
        "id": "MGOkEUkjF988"
      }
    },
    {
      "cell_type": "code",
      "source": [
        "#Lengkapi kodingan berikut\n",
        "print('banyaknya entry = ', A.size )\n",
        "print('dimensi array = ', A.ndim)\n",
        "print('ukuran array = ', A.shape)"
      ],
      "metadata": {
        "colab": {
          "base_uri": "https://localhost:8080/"
        },
        "id": "v3fxPMfWF6It",
        "outputId": "860c3087-5c36-4603-f59a-efc5237861ab"
      },
      "execution_count": 7,
      "outputs": [
        {
          "output_type": "stream",
          "name": "stdout",
          "text": [
            "banyaknya entry =  9\n",
            "dimensi array =  2\n",
            "ukuran array =  (3, 3)\n"
          ]
        }
      ]
    },
    {
      "cell_type": "markdown",
      "source": [
        "##Belajar Slicing"
      ],
      "metadata": {
        "id": "wyAPBBEyI5WB"
      }
    },
    {
      "cell_type": "code",
      "source": [
        "#Slicing\n",
        "print('baris ke-2 = ', A[1])\n",
        "print('entry ke-2 & 3 baris ke-2 = ', A[1, 1:])\n",
        "print('entry pertama & 2 kolom ke-2 = ', A[:2, 1])"
      ],
      "metadata": {
        "colab": {
          "base_uri": "https://localhost:8080/"
        },
        "id": "bsyXsSHMGCMh",
        "outputId": "f3773c52-d333-4d11-b72b-76aa57dd8b43"
      },
      "execution_count": 8,
      "outputs": [
        {
          "output_type": "stream",
          "name": "stdout",
          "text": [
            "baris ke-2 =  [4 5 6]\n",
            "entry ke-2 & 3 baris ke-2 =  [5 6]\n",
            "entry pertama & 2 kolom ke-2 =  [2 5]\n"
          ]
        }
      ]
    },
    {
      "cell_type": "markdown",
      "source": [
        "##Latihan (Slicing)"
      ],
      "metadata": {
        "id": "gH24qm-aI-9f"
      }
    },
    {
      "cell_type": "code",
      "source": [
        "#Lengkapi kodingan berikut\n",
        "print('baris ke-3 = ', A[2])\n",
        "print('entry ke-1 & 2 baris ke-3 = ', A[2, :2])\n",
        "print('entry ke-2 & 3 kolom ke-3 = ', A[1:3, 2])"
      ],
      "metadata": {
        "colab": {
          "base_uri": "https://localhost:8080/"
        },
        "id": "3LEEY_8PGFRD",
        "outputId": "d01ce6e4-90b4-4647-d4c0-ab28ca6914a8"
      },
      "execution_count": 32,
      "outputs": [
        {
          "output_type": "stream",
          "name": "stdout",
          "text": [
            "baris ke-3 =  [7 8 9]\n",
            "entry ke-1 & 2 baris ke-3 =  [7 8]\n",
            "entry ke-2 & 3 kolom ke-3 =  [6 9]\n"
          ]
        }
      ]
    },
    {
      "cell_type": "markdown",
      "source": [
        "##Operasi Matematika"
      ],
      "metadata": {
        "id": "xAWDkpdXGX33"
      }
    },
    {
      "cell_type": "code",
      "source": [
        "C = A*A\n",
        "print('perkalian antar entry = ')\n",
        "print(C)"
      ],
      "metadata": {
        "colab": {
          "base_uri": "https://localhost:8080/"
        },
        "id": "PazP1eSMGHKW",
        "outputId": "8f43ff8f-482a-409f-f134-bc0334dbb852"
      },
      "execution_count": 33,
      "outputs": [
        {
          "output_type": "stream",
          "name": "stdout",
          "text": [
            "perkalian antar entry = \n",
            "[[ 1  4  9]\n",
            " [16 25 36]\n",
            " [49 64 81]]\n"
          ]
        }
      ]
    },
    {
      "cell_type": "code",
      "source": [
        "print('perkalian matriks = ')\n",
        "print(np.matmul(A,A))"
      ],
      "metadata": {
        "colab": {
          "base_uri": "https://localhost:8080/"
        },
        "id": "mK79XAlXGlrF",
        "outputId": "4f0ee180-ab23-4b64-9ee1-b325dfa2d363"
      },
      "execution_count": 34,
      "outputs": [
        {
          "output_type": "stream",
          "name": "stdout",
          "text": [
            "perkalian matriks = \n",
            "[[ 30  36  42]\n",
            " [ 66  81  96]\n",
            " [102 126 150]]\n"
          ]
        }
      ]
    },
    {
      "cell_type": "code",
      "source": [
        "print('determinan matriks A = ', np.linalg.det(A))\n",
        "print('determinan matriks C = ', np.linalg.det(C))"
      ],
      "metadata": {
        "colab": {
          "base_uri": "https://localhost:8080/"
        },
        "id": "1ZbMWrG4GmR2",
        "outputId": "3bc34c7b-3dfd-45c2-f6a1-3484c1e521bc"
      },
      "execution_count": 35,
      "outputs": [
        {
          "output_type": "stream",
          "name": "stdout",
          "text": [
            "determinan matriks A =  0.0\n",
            "determinan matriks C =  -216.00000000000006\n"
          ]
        }
      ]
    },
    {
      "cell_type": "code",
      "source": [
        "print('nilai dan vektor eigen matriks A = ', np.linalg.eig(A))"
      ],
      "metadata": {
        "colab": {
          "base_uri": "https://localhost:8080/"
        },
        "id": "RjzhOFFbGoof",
        "outputId": "e339b2c9-2b37-4167-b32a-b28abe2b5633"
      },
      "execution_count": 36,
      "outputs": [
        {
          "output_type": "stream",
          "name": "stdout",
          "text": [
            "nilai dan vektor eigen matriks A =  (array([ 1.61168440e+01, -1.11684397e+00, -1.30367773e-15]), array([[-0.23197069, -0.78583024,  0.40824829],\n",
            "       [-0.52532209, -0.08675134, -0.81649658],\n",
            "       [-0.8186735 ,  0.61232756,  0.40824829]]))\n"
          ]
        }
      ]
    },
    {
      "cell_type": "code",
      "source": [
        "print('nilai eigen matriks A = ', np.linalg.eig(A)[0])"
      ],
      "metadata": {
        "colab": {
          "base_uri": "https://localhost:8080/"
        },
        "id": "Ha_iSn_QGqiD",
        "outputId": "2486e281-a980-4125-b96b-6c7301ea2948"
      },
      "execution_count": 37,
      "outputs": [
        {
          "output_type": "stream",
          "name": "stdout",
          "text": [
            "nilai eigen matriks A =  [ 1.61168440e+01 -1.11684397e+00 -1.30367773e-15]\n"
          ]
        }
      ]
    },
    {
      "cell_type": "code",
      "source": [
        "print('vektor eigen matriks A = ', np.linalg.eig(A)[1])"
      ],
      "metadata": {
        "colab": {
          "base_uri": "https://localhost:8080/"
        },
        "id": "C_zxMEqgGtFf",
        "outputId": "f2bc1c98-52d8-417f-a10d-384097e41623"
      },
      "execution_count": 38,
      "outputs": [
        {
          "output_type": "stream",
          "name": "stdout",
          "text": [
            "vektor eigen matriks A =  [[-0.23197069 -0.78583024  0.40824829]\n",
            " [-0.52532209 -0.08675134 -0.81649658]\n",
            " [-0.8186735   0.61232756  0.40824829]]\n"
          ]
        }
      ]
    },
    {
      "cell_type": "code",
      "source": [
        "e_vec = np.linalg.eig(A)[1][:, 0]\n",
        "e_val = np.linalg.eig(A)[0][0]\n",
        "e_value = e_val.real\n",
        "print(np.matmul(A, e_vec))"
      ],
      "metadata": {
        "colab": {
          "base_uri": "https://localhost:8080/"
        },
        "id": "oQNM8I4WGvrI",
        "outputId": "3a6807b7-49fa-4d94-9f4f-4b569e82f383"
      },
      "execution_count": 39,
      "outputs": [
        {
          "output_type": "stream",
          "name": "stdout",
          "text": [
            "[ -3.73863537  -8.46653421 -13.19443305]\n"
          ]
        }
      ]
    },
    {
      "cell_type": "code",
      "source": [
        "print(e_val*e_vec)"
      ],
      "metadata": {
        "colab": {
          "base_uri": "https://localhost:8080/"
        },
        "id": "LoFM78pvGzsq",
        "outputId": "a0a2dc50-57c7-40fa-bd3e-558bc473d8bc"
      },
      "execution_count": 40,
      "outputs": [
        {
          "output_type": "stream",
          "name": "stdout",
          "text": [
            "[ -3.73863537  -8.46653421 -13.19443305]\n"
          ]
        }
      ]
    },
    {
      "cell_type": "markdown",
      "source": [
        "##Latihan (operasi Matriks)"
      ],
      "metadata": {
        "id": "pLLKxme-G815"
      }
    },
    {
      "cell_type": "code",
      "source": [
        "A = np.array([[1, 2], [7,8]])\n",
        "B = np.array([[3, 5], [1,6]])"
      ],
      "metadata": {
        "id": "FM2yz-NQG1lM"
      },
      "execution_count": 41,
      "outputs": []
    },
    {
      "cell_type": "markdown",
      "source": [
        "Hitunglah:\n",
        "\n",
        "- 2*A\n",
        "- 2+A\n",
        "- A+B\n",
        "- A-B\n",
        "- determinan A\n",
        "- invers dari B, simpan jadi matriks D\n",
        "- transpose D\n",
        "- nilai eigen dan vektor eigen dari A dan B"
      ],
      "metadata": {
        "id": "G0Q9pgGYHHKz"
      }
    },
    {
      "cell_type": "code",
      "source": [
        "hasil1 = 2*A\n",
        "hasil1"
      ],
      "metadata": {
        "colab": {
          "base_uri": "https://localhost:8080/"
        },
        "id": "Zipml5h7OyRe",
        "outputId": "fac7c05e-d916-4d77-967f-7c1c212b591f"
      },
      "execution_count": 45,
      "outputs": [
        {
          "output_type": "execute_result",
          "data": {
            "text/plain": [
              "array([[ 2,  4],\n",
              "       [14, 16]])"
            ]
          },
          "metadata": {},
          "execution_count": 45
        }
      ]
    },
    {
      "cell_type": "code",
      "source": [
        "hasil2 = 2+A\n",
        "hasil2"
      ],
      "metadata": {
        "colab": {
          "base_uri": "https://localhost:8080/"
        },
        "id": "vnr7a4iKPAVQ",
        "outputId": "967faacb-6a6b-42ac-db73-89baa25e5d5c"
      },
      "execution_count": 46,
      "outputs": [
        {
          "output_type": "execute_result",
          "data": {
            "text/plain": [
              "array([[ 3,  4],\n",
              "       [ 9, 10]])"
            ]
          },
          "metadata": {},
          "execution_count": 46
        }
      ]
    },
    {
      "cell_type": "code",
      "source": [
        "hasil3 = A+B\n",
        "hasil3"
      ],
      "metadata": {
        "colab": {
          "base_uri": "https://localhost:8080/"
        },
        "id": "asIopGrQPILy",
        "outputId": "d059d6cc-9920-4ff7-bcda-5228d8f982ed"
      },
      "execution_count": 47,
      "outputs": [
        {
          "output_type": "execute_result",
          "data": {
            "text/plain": [
              "array([[ 4,  7],\n",
              "       [ 8, 14]])"
            ]
          },
          "metadata": {},
          "execution_count": 47
        }
      ]
    },
    {
      "cell_type": "code",
      "source": [
        "hasil4 = A-B\n",
        "hasil4"
      ],
      "metadata": {
        "colab": {
          "base_uri": "https://localhost:8080/"
        },
        "id": "8mq3CInrPODb",
        "outputId": "8cf52025-612c-45a9-853b-bcd2f00a4d66"
      },
      "execution_count": 48,
      "outputs": [
        {
          "output_type": "execute_result",
          "data": {
            "text/plain": [
              "array([[-2, -3],\n",
              "       [ 6,  2]])"
            ]
          },
          "metadata": {},
          "execution_count": 48
        }
      ]
    },
    {
      "cell_type": "code",
      "source": [
        "#Ketik Kode disini\n",
        "d = np.linalg.inv(B)"
      ],
      "metadata": {
        "id": "31FYdTW_HDKJ"
      },
      "execution_count": null,
      "outputs": []
    },
    {
      "cell_type": "markdown",
      "source": [
        "Apa perbedaan dari B*D (perkalian antar entry di B dan D) dan BD (perkalian matriks B dan D)?"
      ],
      "metadata": {
        "id": "EqIdBqtNH1bR"
      }
    },
    {
      "cell_type": "code",
      "source": [
        "#Tunjukkan bedanya di kodingan di bawah ini\n",
        "print(B*d)"
      ],
      "metadata": {
        "id": "L3NJkgvZHWSt"
      },
      "execution_count": null,
      "outputs": []
    },
    {
      "cell_type": "code",
      "source": [
        "B, d"
      ],
      "metadata": {
        "id": "xIr8kh4mHYiR"
      },
      "execution_count": null,
      "outputs": []
    },
    {
      "cell_type": "code",
      "source": [
        "print(np.matmul(B, d))"
      ],
      "metadata": {
        "id": "BKi_ATNqHd2K"
      },
      "execution_count": null,
      "outputs": []
    },
    {
      "cell_type": "code",
      "source": [
        "np.__version__"
      ],
      "metadata": {
        "id": "n5346mfzHhRK"
      },
      "execution_count": null,
      "outputs": []
    },
    {
      "cell_type": "markdown",
      "source": [
        "'1.22.3'\n",
        "\n",
        "output jawaban:\n",
        "\n",
        "perkalian entry = [[ 1.38461538, -1.92307692], [-0.07692308, 1.38461538]]\n",
        "\n",
        "perkalian matriks = [[ 1.00000000e+00, -1.11022302e-16], [ 1.11022302e-16, 1.00000000e+00]]"
      ],
      "metadata": {
        "id": "tfBXJVpiHne5"
      }
    },
    {
      "cell_type": "code",
      "source": [
        ""
      ],
      "metadata": {
        "id": "CqZ4zWPcHiy7"
      },
      "execution_count": null,
      "outputs": []
    }
  ]
}