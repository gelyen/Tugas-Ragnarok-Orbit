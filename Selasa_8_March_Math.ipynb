{
  "nbformat": 4,
  "nbformat_minor": 0,
  "metadata": {
    "colab": {
      "name": "Selasa_8_March_Math.ipynb",
      "provenance": [],
      "collapsed_sections": []
    },
    "kernelspec": {
      "name": "python3",
      "display_name": "Python 3"
    },
    "language_info": {
      "name": "python"
    }
  },
  "cells": [
    {
      "cell_type": "code",
      "execution_count": 2,
      "metadata": {
        "id": "Kx6zP_SZFEOL"
      },
      "outputs": [],
      "source": [
        "import numpy as np"
      ]
    },
    {
      "cell_type": "markdown",
      "source": [
        "##Belajar tentang 1d & 2d Array"
      ],
      "metadata": {
        "id": "MnI98EREIyWj"
      }
    },
    {
      "cell_type": "code",
      "source": [
        "#1D array\n",
        "a = np.array([3, 1, 5, 6])\n",
        "print('banyaknya entry = ', a.size)\n",
        "print('dimensi array = ', a.ndim)\n",
        "print('ukuran array = ', a.shape)"
      ],
      "metadata": {
        "colab": {
          "base_uri": "https://localhost:8080/"
        },
        "id": "HoZdsIAFFRRT",
        "outputId": "a0be5399-4992-475e-99c7-06e0149674c5"
      },
      "execution_count": 3,
      "outputs": [
        {
          "output_type": "stream",
          "name": "stdout",
          "text": [
            "banyaknya entry =  4\n",
            "dimensi array =  1\n",
            "ukuran array =  (4,)\n"
          ]
        }
      ]
    },
    {
      "cell_type": "code",
      "source": [
        "#Slicing\n",
        "a[1:]"
      ],
      "metadata": {
        "colab": {
          "base_uri": "https://localhost:8080/"
        },
        "id": "BN-BHtOHFmFj",
        "outputId": "0b0e27c9-2d96-4144-8bfc-5c5662e1aa73"
      },
      "execution_count": 4,
      "outputs": [
        {
          "output_type": "execute_result",
          "data": {
            "text/plain": [
              "array([1, 5, 6])"
            ]
          },
          "metadata": {},
          "execution_count": 4
        }
      ]
    },
    {
      "cell_type": "code",
      "source": [
        "print('a[1:3] = ', a[1:3])\n",
        "print('a[:3] = ', a[:3])"
      ],
      "metadata": {
        "colab": {
          "base_uri": "https://localhost:8080/"
        },
        "id": "CZSbxP9EFtoF",
        "outputId": "8cac6d7f-68e3-4a28-c42b-4c41e6c77b19"
      },
      "execution_count": 5,
      "outputs": [
        {
          "output_type": "stream",
          "name": "stdout",
          "text": [
            "a[1:3] =  [1 5]\n",
            "a[:3] =  [3 1 5]\n"
          ]
        }
      ]
    },
    {
      "cell_type": "code",
      "source": [
        "#2D Array (Matriks)\n",
        "A = np.array([[1, 2, 3], [4, 5, 6], [7, 8, 9]])\n",
        "print(A)"
      ],
      "metadata": {
        "colab": {
          "base_uri": "https://localhost:8080/"
        },
        "id": "G9q6a9TvF3vZ",
        "outputId": "9d65ddbf-d661-4e30-e7ea-95ad3522d678"
      },
      "execution_count": 6,
      "outputs": [
        {
          "output_type": "stream",
          "name": "stdout",
          "text": [
            "[[1 2 3]\n",
            " [4 5 6]\n",
            " [7 8 9]]\n"
          ]
        }
      ]
    },
    {
      "cell_type": "markdown",
      "source": [
        "##Latihan(2d Array)"
      ],
      "metadata": {
        "id": "MGOkEUkjF988"
      }
    },
    {
      "cell_type": "code",
      "source": [
        "#Lengkapi kodingan berikut\n",
        "print('banyaknya entry = ', A.size )\n",
        "print('dimensi array = ', A.ndim)\n",
        "print('ukuran array = ', A.shape)"
      ],
      "metadata": {
        "colab": {
          "base_uri": "https://localhost:8080/"
        },
        "id": "v3fxPMfWF6It",
        "outputId": "27c183ce-1f48-4158-dc1e-0b5e8498c60b"
      },
      "execution_count": 7,
      "outputs": [
        {
          "output_type": "stream",
          "name": "stdout",
          "text": [
            "banyaknya entry =  9\n",
            "dimensi array =  2\n",
            "ukuran array =  (3, 3)\n"
          ]
        }
      ]
    },
    {
      "cell_type": "markdown",
      "source": [
        "##Belajar Slicing"
      ],
      "metadata": {
        "id": "wyAPBBEyI5WB"
      }
    },
    {
      "cell_type": "code",
      "source": [
        "#Slicing\n",
        "print('baris ke-2 = ', A[1])\n",
        "print('entry ke-2 & 3 baris ke-2 = ', A[1, 1:])\n",
        "print('entry pertama & 2 kolom ke-2 = ', A[:2, 1])"
      ],
      "metadata": {
        "colab": {
          "base_uri": "https://localhost:8080/"
        },
        "id": "bsyXsSHMGCMh",
        "outputId": "5a8e7f31-f589-4b59-ba9a-23f15d5e49bc"
      },
      "execution_count": 8,
      "outputs": [
        {
          "output_type": "stream",
          "name": "stdout",
          "text": [
            "baris ke-2 =  [4 5 6]\n",
            "entry ke-2 & 3 baris ke-2 =  [5 6]\n",
            "entry pertama & 2 kolom ke-2 =  [2 5]\n"
          ]
        }
      ]
    },
    {
      "cell_type": "markdown",
      "source": [
        "##Latihan (Slicing)"
      ],
      "metadata": {
        "id": "gH24qm-aI-9f"
      }
    },
    {
      "cell_type": "code",
      "source": [
        "#Lengkapi kodingan berikut\n",
        "print('baris ke-3 = ', A[2])\n",
        "print('entry ke-1 & 2 baris ke-3 = ', A[2, :2])\n",
        "print('entry ke-2 & 3 kolom ke-3 = ', A[1:3, 2])"
      ],
      "metadata": {
        "colab": {
          "base_uri": "https://localhost:8080/"
        },
        "id": "3LEEY_8PGFRD",
        "outputId": "030eed5a-ea29-4cfa-801e-f16ef8479d1e"
      },
      "execution_count": 9,
      "outputs": [
        {
          "output_type": "stream",
          "name": "stdout",
          "text": [
            "baris ke-3 =  [7 8 9]\n",
            "entry ke-1 & 2 baris ke-3 =  [7 8]\n",
            "entry ke-2 & 3 kolom ke-3 =  [6 9]\n"
          ]
        }
      ]
    },
    {
      "cell_type": "markdown",
      "source": [
        "##Operasi Matematika"
      ],
      "metadata": {
        "id": "xAWDkpdXGX33"
      }
    },
    {
      "cell_type": "code",
      "source": [
        "C = A*A\n",
        "print('perkalian antar entry = ')\n",
        "print(C)"
      ],
      "metadata": {
        "colab": {
          "base_uri": "https://localhost:8080/"
        },
        "id": "PazP1eSMGHKW",
        "outputId": "2e530dd3-f9d5-45ba-8ef9-77288004c1ba"
      },
      "execution_count": 10,
      "outputs": [
        {
          "output_type": "stream",
          "name": "stdout",
          "text": [
            "perkalian antar entry = \n",
            "[[ 1  4  9]\n",
            " [16 25 36]\n",
            " [49 64 81]]\n"
          ]
        }
      ]
    },
    {
      "cell_type": "code",
      "source": [
        "print('perkalian matriks = ')\n",
        "print(np.matmul(A,A))"
      ],
      "metadata": {
        "colab": {
          "base_uri": "https://localhost:8080/"
        },
        "id": "mK79XAlXGlrF",
        "outputId": "97d92daf-12e1-4340-b2bd-c467dbe5ae30"
      },
      "execution_count": 11,
      "outputs": [
        {
          "output_type": "stream",
          "name": "stdout",
          "text": [
            "perkalian matriks = \n",
            "[[ 30  36  42]\n",
            " [ 66  81  96]\n",
            " [102 126 150]]\n"
          ]
        }
      ]
    },
    {
      "cell_type": "code",
      "source": [
        "print('determinan matriks A = ', np.linalg.det(A))\n",
        "print('determinan matriks C = ', np.linalg.det(C))"
      ],
      "metadata": {
        "colab": {
          "base_uri": "https://localhost:8080/"
        },
        "id": "1ZbMWrG4GmR2",
        "outputId": "03ea3597-3625-4797-b26a-55f12859a66e"
      },
      "execution_count": 12,
      "outputs": [
        {
          "output_type": "stream",
          "name": "stdout",
          "text": [
            "determinan matriks A =  0.0\n",
            "determinan matriks C =  -216.00000000000006\n"
          ]
        }
      ]
    },
    {
      "cell_type": "code",
      "source": [
        "print('nilai dan vektor eigen matriks A = ', np.linalg.eig(A))"
      ],
      "metadata": {
        "colab": {
          "base_uri": "https://localhost:8080/"
        },
        "id": "RjzhOFFbGoof",
        "outputId": "c5874462-7467-4766-ebb4-67cda3ee17cb"
      },
      "execution_count": 13,
      "outputs": [
        {
          "output_type": "stream",
          "name": "stdout",
          "text": [
            "nilai dan vektor eigen matriks A =  (array([ 1.61168440e+01, -1.11684397e+00, -1.30367773e-15]), array([[-0.23197069, -0.78583024,  0.40824829],\n",
            "       [-0.52532209, -0.08675134, -0.81649658],\n",
            "       [-0.8186735 ,  0.61232756,  0.40824829]]))\n"
          ]
        }
      ]
    },
    {
      "cell_type": "code",
      "source": [
        "print('nilai eigen matriks A = ', np.linalg.eig(A)[0])"
      ],
      "metadata": {
        "colab": {
          "base_uri": "https://localhost:8080/"
        },
        "id": "Ha_iSn_QGqiD",
        "outputId": "4d12ab47-1a7e-4bf6-95dd-2d8a8ee4e4d7"
      },
      "execution_count": 14,
      "outputs": [
        {
          "output_type": "stream",
          "name": "stdout",
          "text": [
            "nilai eigen matriks A =  [ 1.61168440e+01 -1.11684397e+00 -1.30367773e-15]\n"
          ]
        }
      ]
    },
    {
      "cell_type": "code",
      "source": [
        "print('vektor eigen matriks A = ', np.linalg.eig(A)[1])"
      ],
      "metadata": {
        "colab": {
          "base_uri": "https://localhost:8080/"
        },
        "id": "C_zxMEqgGtFf",
        "outputId": "3e372de5-0a41-4afd-9718-935aca1bdb81"
      },
      "execution_count": 15,
      "outputs": [
        {
          "output_type": "stream",
          "name": "stdout",
          "text": [
            "vektor eigen matriks A =  [[-0.23197069 -0.78583024  0.40824829]\n",
            " [-0.52532209 -0.08675134 -0.81649658]\n",
            " [-0.8186735   0.61232756  0.40824829]]\n"
          ]
        }
      ]
    },
    {
      "cell_type": "code",
      "source": [
        "e_vec = np.linalg.eig(A)[1][:, 0]\n",
        "e_val = np.linalg.eig(A)[0][0]\n",
        "e_value = e_val.real\n",
        "print(np.matmul(A, e_vec))"
      ],
      "metadata": {
        "colab": {
          "base_uri": "https://localhost:8080/"
        },
        "id": "oQNM8I4WGvrI",
        "outputId": "45d8806a-bf96-4b52-be67-7cb44f3eaa72"
      },
      "execution_count": 16,
      "outputs": [
        {
          "output_type": "stream",
          "name": "stdout",
          "text": [
            "[ -3.73863537  -8.46653421 -13.19443305]\n"
          ]
        }
      ]
    },
    {
      "cell_type": "code",
      "source": [
        "print(e_val*e_vec)"
      ],
      "metadata": {
        "colab": {
          "base_uri": "https://localhost:8080/"
        },
        "id": "LoFM78pvGzsq",
        "outputId": "421faa84-ee1d-47dc-e095-bba8f7f31130"
      },
      "execution_count": 17,
      "outputs": [
        {
          "output_type": "stream",
          "name": "stdout",
          "text": [
            "[ -3.73863537  -8.46653421 -13.19443305]\n"
          ]
        }
      ]
    },
    {
      "cell_type": "markdown",
      "source": [
        "##Latihan (operasi Matriks)"
      ],
      "metadata": {
        "id": "pLLKxme-G815"
      }
    },
    {
      "cell_type": "code",
      "source": [
        "A = np.array([[1, 2], [7,8]])\n",
        "B = np.array([[3, 5], [1,6]])"
      ],
      "metadata": {
        "id": "FM2yz-NQG1lM"
      },
      "execution_count": 18,
      "outputs": []
    },
    {
      "cell_type": "markdown",
      "source": [
        "Hitunglah:\n",
        "\n",
        "- 2*A\n",
        "- 2+A\n",
        "- A+B\n",
        "- A-B\n",
        "- determinan A\n",
        "- invers dari B, simpan jadi matriks D\n",
        "- transpose D\n",
        "- nilai eigen dan vektor eigen dari A dan B"
      ],
      "metadata": {
        "id": "G0Q9pgGYHHKz"
      }
    },
    {
      "cell_type": "code",
      "source": [
        "hasil1 = 2*A\n",
        "hasil1"
      ],
      "metadata": {
        "colab": {
          "base_uri": "https://localhost:8080/"
        },
        "id": "Zipml5h7OyRe",
        "outputId": "897e8e75-f2f3-458a-9d4f-520912a17329"
      },
      "execution_count": 19,
      "outputs": [
        {
          "output_type": "execute_result",
          "data": {
            "text/plain": [
              "array([[ 2,  4],\n",
              "       [14, 16]])"
            ]
          },
          "metadata": {},
          "execution_count": 19
        }
      ]
    },
    {
      "cell_type": "code",
      "source": [
        "hasil2 = 2+A\n",
        "hasil2"
      ],
      "metadata": {
        "colab": {
          "base_uri": "https://localhost:8080/"
        },
        "id": "vnr7a4iKPAVQ",
        "outputId": "e812376c-bc79-4b3b-91db-754999b2667a"
      },
      "execution_count": 20,
      "outputs": [
        {
          "output_type": "execute_result",
          "data": {
            "text/plain": [
              "array([[ 3,  4],\n",
              "       [ 9, 10]])"
            ]
          },
          "metadata": {},
          "execution_count": 20
        }
      ]
    },
    {
      "cell_type": "code",
      "source": [
        "hasil3 = A+B\n",
        "hasil3"
      ],
      "metadata": {
        "colab": {
          "base_uri": "https://localhost:8080/"
        },
        "id": "asIopGrQPILy",
        "outputId": "acc2d369-a1b3-4418-e572-2c383b90465a"
      },
      "execution_count": 21,
      "outputs": [
        {
          "output_type": "execute_result",
          "data": {
            "text/plain": [
              "array([[ 4,  7],\n",
              "       [ 8, 14]])"
            ]
          },
          "metadata": {},
          "execution_count": 21
        }
      ]
    },
    {
      "cell_type": "code",
      "source": [
        "hasil4 = A-B\n",
        "hasil4"
      ],
      "metadata": {
        "colab": {
          "base_uri": "https://localhost:8080/"
        },
        "id": "8mq3CInrPODb",
        "outputId": "07d0b332-7fc0-4672-ff1e-1792cb62c1b8"
      },
      "execution_count": 22,
      "outputs": [
        {
          "output_type": "execute_result",
          "data": {
            "text/plain": [
              "array([[-2, -3],\n",
              "       [ 6,  2]])"
            ]
          },
          "metadata": {},
          "execution_count": 22
        }
      ]
    },
    {
      "cell_type": "code",
      "source": [
        "#Ketik Kode disini\n",
        "print(\"Array A: \")\n",
        "print(A)\n",
        "Determinant = np.linalg.det(A)\n",
        "Determinant"
      ],
      "metadata": {
        "id": "31FYdTW_HDKJ",
        "colab": {
          "base_uri": "https://localhost:8080/"
        },
        "outputId": "a3f9759c-92bc-4eb4-8369-6f5ba189ccb7"
      },
      "execution_count": 33,
      "outputs": [
        {
          "output_type": "stream",
          "name": "stdout",
          "text": [
            "Array A: \n",
            "[[1 2]\n",
            " [7 8]]\n"
          ]
        },
        {
          "output_type": "execute_result",
          "data": {
            "text/plain": [
              "-6.0"
            ]
          },
          "metadata": {},
          "execution_count": 33
        }
      ]
    },
    {
      "cell_type": "code",
      "source": [
        "#Ketik Kode disini\n",
        "print(\"Array A: \")\n",
        "print(B)\n",
        "D = np.linalg.inv(B)\n",
        "D"
      ],
      "metadata": {
        "colab": {
          "base_uri": "https://localhost:8080/"
        },
        "id": "Jl5ZJmHlNzM6",
        "outputId": "6c7b838b-c78c-4b41-f854-115d03cb13b6"
      },
      "execution_count": 35,
      "outputs": [
        {
          "output_type": "stream",
          "name": "stdout",
          "text": [
            "Array A: \n",
            "[[3 5]\n",
            " [1 6]]\n"
          ]
        },
        {
          "output_type": "execute_result",
          "data": {
            "text/plain": [
              "array([[ 0.46153846, -0.38461538],\n",
              "       [-0.07692308,  0.23076923]])"
            ]
          },
          "metadata": {},
          "execution_count": 35
        }
      ]
    },
    {
      "cell_type": "code",
      "source": [
        "print(D)\n",
        "print(\"\")\n",
        "#Transpose\n",
        "print(D.T)"
      ],
      "metadata": {
        "colab": {
          "base_uri": "https://localhost:8080/"
        },
        "id": "C4c28DL1OmWk",
        "outputId": "a7fc98d8-457d-41ad-9802-900e8acdc11e"
      },
      "execution_count": 40,
      "outputs": [
        {
          "output_type": "stream",
          "name": "stdout",
          "text": [
            "[[ 0.46153846 -0.38461538]\n",
            " [-0.07692308  0.23076923]]\n",
            "\n",
            "[[ 0.46153846 -0.07692308]\n",
            " [-0.38461538  0.23076923]]\n"
          ]
        }
      ]
    },
    {
      "cell_type": "code",
      "source": [
        "#Nilai Eigen Value & Vektor A\n",
        "print(\"Array A: \"\"\\n\",A)\n",
        "eigenvalue, eigenvektor= np.linalg.eig(A) #proses menjadi nilai eigen value dan vektor\n",
        "print(\"\\nEigenvalue\")\n",
        "print (eigenvalue)\n",
        "print(\"\\nEigenvektor\")\n",
        "print (eigenvektor)"
      ],
      "metadata": {
        "colab": {
          "base_uri": "https://localhost:8080/"
        },
        "id": "svNAU0HQPvuj",
        "outputId": "ba6f69d4-36a8-4769-d019-0153b193025f"
      },
      "execution_count": 44,
      "outputs": [
        {
          "output_type": "stream",
          "name": "stdout",
          "text": [
            "Array A: \n",
            " [[1 2]\n",
            " [7 8]]\n",
            "\n",
            "Eigenvalue\n",
            "[-0.62347538  9.62347538]\n",
            "\n",
            "Eigenvektor\n",
            "[[-0.77640358 -0.22592838]\n",
            " [ 0.63023605 -0.97414391]]\n"
          ]
        }
      ]
    },
    {
      "cell_type": "code",
      "source": [
        "#Nilai Eigen Value & Vektor B\n",
        "print(\"Array B: \"\"\\n\",B)\n",
        "eigenvalue, eigenvektor= np.linalg.eig(B) #proses menjadi nilai eigen value dan vektor\n",
        "print(\"\\nEigenvalue\")\n",
        "print (eigenvalue)\n",
        "print(\"\\nEigenvektor\")\n",
        "print (eigenvektor)"
      ],
      "metadata": {
        "colab": {
          "base_uri": "https://localhost:8080/"
        },
        "id": "8YX4X0kXQxTb",
        "outputId": "a6f269f7-cd21-4b41-a270-29aa0a57525a"
      },
      "execution_count": 46,
      "outputs": [
        {
          "output_type": "stream",
          "name": "stdout",
          "text": [
            "Array B: \n",
            " [[3 5]\n",
            " [1 6]]\n",
            "\n",
            "Eigenvalue\n",
            "[1.8074176 7.1925824]\n",
            "\n",
            "Eigenvektor\n",
            "[[-0.97271381 -0.76626443]\n",
            " [ 0.23200828 -0.64252535]]\n"
          ]
        }
      ]
    },
    {
      "cell_type": "markdown",
      "source": [
        "Apa perbedaan dari B*D (perkalian antar entry di B dan D) dan BD (perkalian matriks B dan D)?"
      ],
      "metadata": {
        "id": "EqIdBqtNH1bR"
      }
    },
    {
      "cell_type": "markdown",
      "source": [
        "Dapat dilihat dibawah, bawah perkalian antar entry itu perkalian tiap angka yang tempatnya sama, sedangkan perkalian matriks yaitu baris kali kolom"
      ],
      "metadata": {
        "id": "ogfRJG2bVd2A"
      }
    },
    {
      "cell_type": "code",
      "source": [
        "#Tunjukkan bedanya di kodingan di bawah ini\n",
        "print(B)\n",
        "print(D)\n",
        "print(B*D)"
      ],
      "metadata": {
        "id": "L3NJkgvZHWSt",
        "colab": {
          "base_uri": "https://localhost:8080/"
        },
        "outputId": "61eead74-f082-4e17-bd33-e70a6a93cb59"
      },
      "execution_count": 50,
      "outputs": [
        {
          "output_type": "stream",
          "name": "stdout",
          "text": [
            "[[3 5]\n",
            " [1 6]]\n",
            "[[ 0.46153846 -0.38461538]\n",
            " [-0.07692308  0.23076923]]\n",
            "[[ 1.38461538 -1.92307692]\n",
            " [-0.07692308  1.38461538]]\n"
          ]
        }
      ]
    },
    {
      "cell_type": "code",
      "source": [
        "print(np.matmul(B, D))"
      ],
      "metadata": {
        "id": "BKi_ATNqHd2K",
        "colab": {
          "base_uri": "https://localhost:8080/"
        },
        "outputId": "8c6aee86-b339-46ff-9a93-6404a2a421a8"
      },
      "execution_count": 49,
      "outputs": [
        {
          "output_type": "stream",
          "name": "stdout",
          "text": [
            "[[ 1.00000000e+00 -1.11022302e-16]\n",
            " [ 1.11022302e-16  1.00000000e+00]]\n"
          ]
        }
      ]
    },
    {
      "cell_type": "markdown",
      "source": [
        "'1.22.3'\n",
        "\n",
        "output jawaban:\n",
        "\n",
        "perkalian entry = [[ 1.38461538, -1.92307692], [-0.07692308, 1.38461538]]\n",
        "\n",
        "perkalian matriks = [[ 1.00000000e+00, -1.11022302e-16], [ 1.11022302e-16, 1.00000000e+00]]"
      ],
      "metadata": {
        "id": "tfBXJVpiHne5"
      }
    }
  ]
}