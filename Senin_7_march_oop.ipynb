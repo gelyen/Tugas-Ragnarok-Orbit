{
  "nbformat": 4,
  "nbformat_minor": 0,
  "metadata": {
    "colab": {
      "name": "Senin_7_march_oop.ipynb",
      "provenance": [],
      "collapsed_sections": []
    },
    "kernelspec": {
      "name": "python3",
      "display_name": "Python 3"
    },
    "language_info": {
      "name": "python"
    }
  },
  "cells": [
    {
      "cell_type": "markdown",
      "source": [
        "##encapsulation"
      ],
      "metadata": {
        "id": "9P6eLN8tQxjj"
      }
    },
    {
      "cell_type": "code",
      "source": [
        "class KTP(object):\n",
        "    \n",
        "    def __init__(selfie, input_nomor, input_nama, input_usia, input_lahir):\n",
        "        selfie.nomor = input_nomor\n",
        "        selfie.nama = input_nama\n",
        "        selfie.usia = input_usia\n",
        "        selfie.lahir = input_lahir\n",
        "        \n",
        "\n",
        "        \n",
        "    def display(selfie):\n",
        "        print(selfie.nomor)\n",
        "        print(selfie.nama)\n",
        "        print(selfie.usia)\n",
        "        print(selfie.lahir)\n",
        "\n",
        "    def info(selfie):\n",
        "        print(f\"no: {selfie.nomor}, nama: {selfie.nama}, usia: {selfie.usia}, tempat: {selfie.lahir}\")\n",
        "\n",
        "\n",
        "info_ktp = KTP(1234562346, \"timothy\", 19, \"manado\")\n",
        "\n",
        "info_ktp.display()\n",
        "info_ktp.info()"
      ],
      "metadata": {
        "colab": {
          "base_uri": "https://localhost:8080/"
        },
        "id": "_fT1IOG7nAK5",
        "outputId": "12770e72-cac7-4a88-ecd7-d388ceec1b8b"
      },
      "execution_count": null,
      "outputs": [
        {
          "output_type": "stream",
          "name": "stdout",
          "text": [
            "1234562346\n",
            "gelyen\n",
            "18\n",
            "manado\n",
            "no: 1234562346, nama: gelyen, usia: 18, tempat: manado\n"
          ]
        }
      ]
    },
    {
      "cell_type": "code",
      "execution_count": null,
      "metadata": {
        "colab": {
          "base_uri": "https://localhost:8080/"
        },
        "id": "nSvRroDUDfhT",
        "outputId": "a6838698-df95-4a74-e7c4-ffffe27f8833"
      },
      "outputs": [
        {
          "output_type": "stream",
          "name": "stdout",
          "text": [
            "nama: timothy, usia: 19, warna: pria, jenis: A\n",
            "Kriteria SIM A untuk kendaraan beroda 4\n"
          ]
        }
      ],
      "source": [
        "class SIM(object):\n",
        "    \n",
        "    def __init__(selfie, input_nama, input_usia, input_kelamin, input_jenis):\n",
        "        selfie.nama = input_nama\n",
        "        selfie.usia = input_usia\n",
        "        selfie.gender = input_kelamin\n",
        "        selfie.jenis = input_jenis\n",
        "\n",
        "\n",
        "    def kriteria(selfie):\n",
        "      if (selfie.jenis == \"A\"):\n",
        "        print(\"Kriteria SIM \"+ selfie.jenis +\" untuk kendaraan beroda 4\")\n",
        "      elif (selfie.jenis == \"C\"):\n",
        "        print(\"Kriteria SIM \"+selfie.jenis+\" untuk kendaraan beroda 2\")\n",
        "      else:\n",
        "        print(\"jenis tidak di ketahui\")\n",
        "\n",
        "    def info(selfie):\n",
        "        print(f\"nama: {selfie.nama}, usia: {selfie.usia}, warna: {selfie.gender}, jenis: {selfie.jenis}\")\n",
        "\n",
        "\n",
        "kucing1 = SIM(\"timothy\", 19, \"pria\", \"A\")\n",
        "\n",
        "kucing1.info()\n",
        "kucing1.kriteria()"
      ]
    },
    {
      "cell_type": "code",
      "source": [
        "class KTM(object):\n",
        "    \n",
        "    def __init__(selfie, input_nim, input_nama, input_usia, input_fakultas, input_jurusan):\n",
        "        selfie.nim = input_nim\n",
        "        selfie.nama = input_nama\n",
        "        selfie.usia = input_usia\n",
        "        selfie.fakultas = input_fakultas\n",
        "        selfie.jurusan = input_jurusan\n",
        "        \n",
        "\n",
        "        \n",
        "    def display(selfie):\n",
        "        print(selfie.nim)\n",
        "        print(selfie.nama)\n",
        "        print(selfie.usia)\n",
        "        print(selfie.fakultas)\n",
        "        print(selfie.jurusan)\n",
        "\n",
        "    def info(selfie):\n",
        "        print(f\"NIM: {selfie.nim}, Nama: {selfie.nama}, Usia: {selfie.usia}, Fakultas: {selfie.fakultas}, Jurusan: {selfie.jurusan}\")\n",
        "\n",
        "\n",
        "info_ktm = KTM(672018187, \"timothy\", 19, \"Teknik Informasi\", \"Teknik Informatika\")\n",
        "\n",
        "info_ktm.display()\n",
        "info_ktm.info()"
      ],
      "metadata": {
        "colab": {
          "base_uri": "https://localhost:8080/"
        },
        "id": "sqL8__1-yubT",
        "outputId": "57f6a9c6-fc59-4173-b62e-88a0766d97a3"
      },
      "execution_count": null,
      "outputs": [
        {
          "output_type": "stream",
          "name": "stdout",
          "text": [
            "672018187\n",
            "timothy\n",
            "18\n",
            "Teknik Informasi\n",
            "Teknik Informatika\n",
            "NIM: 672018187, Nama: timothy, Usia: 18, Fakultas: Teknik Informasi, Jurusan: Teknik Informatika\n"
          ]
        }
      ]
    },
    {
      "cell_type": "markdown",
      "source": [
        "##inheritence"
      ],
      "metadata": {
        "id": "bFmMudEtRDvS"
      }
    },
    {
      "cell_type": "code",
      "source": [
        "class cek_pajak(object):\n",
        "    def __init__(selfie, nama, usia):\n",
        "        selfie.nama = nama\n",
        "        selfie.usia = usia\n",
        "\n",
        "\n",
        "    def kecukupan(selfie, umur):\n",
        "        if(umur < 20):\n",
        "            print(\"Belum membayar pajak\")\n",
        "        else:\n",
        "          print(\"Bayar Pajak\")\n",
        "\n",
        "    def info(selfie):\n",
        "        print(f\"nama: {selfie.nama}, usia: {selfie.usia}\")\n",
        "\n",
        "\n",
        "Kartu = cek_pajak(\"Timothy\", 19)\n",
        "\n",
        "Kartu.info()"
      ],
      "metadata": {
        "colab": {
          "base_uri": "https://localhost:8080/"
        },
        "id": "ztijEO2pQaIW",
        "outputId": "4eb0fd37-0d02-46c8-9a40-cd1ac15ed538"
      },
      "execution_count": null,
      "outputs": [
        {
          "output_type": "stream",
          "name": "stdout",
          "text": [
            "nama: Timothy, usia: 19\n"
          ]
        }
      ]
    },
    {
      "cell_type": "code",
      "source": [
        "class KTP(cek_pajak):\n",
        "    def __init__(selfie, nomor, nama, usia, tempat_lahir):\n",
        "        super().__init__(nama, usia)\n",
        "        selfie.nomor = nomor\n",
        "        selfie.tempat_lahir = tempat_lahir\n",
        "\n",
        "    def cukup(selfie):\n",
        "        super().kecukupan(selfie.usia)\n",
        "        print(\"........\")\n",
        "\n",
        "    def info_ktp(selfie):\n",
        "        super().info()\n",
        "        print(f\"No KTP: {selfie.nomor}, Tempat Lahir: {selfie.tempat_lahir}\")\n",
        "\n",
        "ktp = KTP(123456789, \"Garry\", 20, \"Manado\")\n",
        "\n",
        "ktp.info_ktp()\n",
        "ktp.cukup()\n"
      ],
      "metadata": {
        "colab": {
          "base_uri": "https://localhost:8080/"
        },
        "id": "XNRQa90kRAA9",
        "outputId": "c532b82b-16a0-4ade-a69f-abeb7889ede1"
      },
      "execution_count": null,
      "outputs": [
        {
          "output_type": "stream",
          "name": "stdout",
          "text": [
            "nama: Garry, usia: 20\n",
            "No KTP: 123456789, Tempat Lahir: Manado\n",
            "Bayar Pajak\n",
            "........\n"
          ]
        }
      ]
    },
    {
      "cell_type": "code",
      "source": [
        "class SIM(cek_pajak):\n",
        "    def __init__(selfie, nama, usia, kelamin, jenis):\n",
        "        super().__init__(nama, usia)\n",
        "        selfie.gender = kelamin\n",
        "        selfie.jenis_sim = jenis\n",
        "\n",
        "    def cukup(selfie):\n",
        "        super().kecukupan(selfie.usia)\n",
        "        print(\"SIM \",selfie.jenis_sim)\n",
        "\n",
        "    def info_sim(selfie):\n",
        "        super().info()\n",
        "        print(f\"Jenis Kelamin: {selfie.gender}, Kriteria SIM: {selfie.jenis_sim}\")\n",
        "\n",
        "sim = SIM(\"gelyen\", 19, \"Pria\", \"A\")\n",
        "\n",
        "sim.info_sim()\n",
        "sim.cukup()"
      ],
      "metadata": {
        "id": "1NdB9ln1RCv1",
        "colab": {
          "base_uri": "https://localhost:8080/"
        },
        "outputId": "fe5bafe0-bf8b-41a8-ff6a-01da36d20049"
      },
      "execution_count": null,
      "outputs": [
        {
          "output_type": "stream",
          "name": "stdout",
          "text": [
            "nama: gelyen, usia: 19\n",
            "Jenis Kelamin: Pria, Kriteria SIM: A\n",
            "Belum membayar pajak\n",
            "SIM  A\n"
          ]
        }
      ]
    },
    {
      "cell_type": "code",
      "source": [
        "class KTM(cek_pajak):\n",
        "    def __init__(selfie, nim, nama, usia, fakultas, jurusan):\n",
        "        super().__init__(nama, usia)\n",
        "        selfie.nim = nim\n",
        "        selfie.fakultas = fakultas\n",
        "        selfie.jurusan = jurusan\n",
        "\n",
        "    def cukup(selfie):\n",
        "        super().kecukupan(selfie.usia)\n",
        "        print(selfie.fakultas, \"\" , selfie.jurusan)\n",
        "\n",
        "    def info_ktm(selfie):\n",
        "        super().info()\n",
        "        print(f\"nim: {selfie.nim}, fakultas: {selfie.fakultas}, jurusan: {selfie.jurusan}\")\n",
        "\n",
        "ktm = KTM(672018187,\"astaroth\", 21, \"FTI\", \"Teknik Informatika\")\n",
        "\n",
        "ktm.info_ktm()\n",
        "ktm.cukup()"
      ],
      "metadata": {
        "colab": {
          "base_uri": "https://localhost:8080/"
        },
        "id": "Jizm4-uW-SoT",
        "outputId": "bca1f48f-c783-4e27-e7fa-3d992146a2ab"
      },
      "execution_count": null,
      "outputs": [
        {
          "output_type": "stream",
          "name": "stdout",
          "text": [
            "nama: astaroth, usia: 21\n",
            "nim: 672018187, fakultas: FTI, jurusan: Teknik Informatika\n",
            "Bayar Pajak\n",
            "FTI  Teknik Informatika\n"
          ]
        }
      ]
    },
    {
      "cell_type": "markdown",
      "source": [
        "##Abstraction"
      ],
      "metadata": {
        "id": "OkCDaC_W0Jxt"
      }
    },
    {
      "cell_type": "code",
      "source": [
        "from abc import abstractmethod, ABC"
      ],
      "metadata": {
        "id": "SnxgWt75mjmM"
      },
      "execution_count": 43,
      "outputs": []
    },
    {
      "cell_type": "code",
      "source": [
        "class alarm(ABC):\n",
        "    @abstractmethod\n",
        "    def tugas(selfie):\n",
        "        pass\n",
        "        \n",
        "class pagi(alarm):\n",
        "    def tugas(selfie):\n",
        "        print(\"bangun pagi\")\n",
        "        \n",
        "        \n",
        "class siang(alarm):\n",
        "    def  tugas(selfie):\n",
        "        print(\"makan siang\")\n",
        "\n",
        "class tidur(alarm):\n",
        "    def tugas(selfie):\n",
        "        print(\"waktunya tidur\")\n",
        "\n",
        "\n",
        "morning = pagi()\n",
        "morning.tugas()\n",
        "\n",
        "noon = siang()\n",
        "noon.tugas()\n",
        "\n",
        "night = tidur()\n",
        "night.tugas()"
      ],
      "metadata": {
        "id": "SLY_O8LS3UsH",
        "colab": {
          "base_uri": "https://localhost:8080/"
        },
        "outputId": "c083bb7a-aa86-44d1-c8f0-2f8e5767dc67"
      },
      "execution_count": 44,
      "outputs": [
        {
          "output_type": "stream",
          "name": "stdout",
          "text": [
            "bangun pagi\n",
            "makan siang\n",
            "waktunya tidur\n"
          ]
        }
      ]
    },
    {
      "cell_type": "code",
      "source": [
        "class elektronik(ABC):\n",
        "    @abstractmethod\n",
        "    def tugas(selfie):\n",
        "        pass\n",
        "        \n",
        "class televisi(elektronik):\n",
        "    def tugas(selfie):\n",
        "        print(\"TV Menyala\")\n",
        "        \n",
        "        \n",
        "class rice_cooker(elektronik):\n",
        "    def  tugas(selfie):\n",
        "        print(\"Nasi telah masak\")\n",
        "\n",
        "class remot(elektronik):\n",
        "    def tugas(selfie,remote):\n",
        "        print(\"Remote Tv Di Channel\", remote)\n",
        "\n",
        "\n",
        "tivi = televisi()\n",
        "tivi.tugas()\n",
        "\n",
        "penanak = rice_cooker()\n",
        "penanak.tugas()\n",
        "\n",
        "remot1 = remot()\n",
        "remot1.tugas(5)"
      ],
      "metadata": {
        "colab": {
          "base_uri": "https://localhost:8080/"
        },
        "id": "gkrhKfSv0M3I",
        "outputId": "2bbfd9cd-47e7-4cc8-96c8-517b50494b27"
      },
      "execution_count": 49,
      "outputs": [
        {
          "output_type": "stream",
          "name": "stdout",
          "text": [
            "TV Menyala\n",
            "Nasi telah masak\n",
            "Remote Tv Di Channel 5\n"
          ]
        }
      ]
    },
    {
      "cell_type": "code",
      "source": [
        "class keluarga(ABC):\n",
        "    def cetak():\n",
        "        print(\"Pekerjaan Keluarga\")\n",
        "\n",
        "    \n",
        "    @abstractmethod\n",
        "    def tugas(self):\n",
        "        pass\n",
        "    \n",
        "class ayah(keluarga):\n",
        "    def tugas(self):\n",
        "        print(\"ayah sedang beri makan hewan\")\n",
        "        \n",
        "class ibu(keluarga):\n",
        "    def tugas(self):\n",
        "        print(\"ibu sedang memasak\")\n",
        "\n",
        "class anak(keluarga):\n",
        "    def tugas(self, a, b):\n",
        "      hasil = a+b\n",
        "      print(\"anak belajar pertambahan \"+str(a)+\"+\"+str(b)+\" =\", hasil)\n"
      ],
      "metadata": {
        "id": "BbPlJxX20TZl"
      },
      "execution_count": 50,
      "outputs": []
    },
    {
      "cell_type": "code",
      "source": [
        "bapak = ayah()\n",
        "bunda = ibu()\n",
        "adek = anak()\n",
        "\n",
        "keluarga.cetak()\n",
        "\n",
        "\n",
        "bapak.tugas()\n",
        "bunda.tugas()\n",
        "adek.tugas(20,10)"
      ],
      "metadata": {
        "id": "tolr4K2p3Ry3",
        "outputId": "9c2760df-1f1a-411d-c22d-3859af76b1c3",
        "colab": {
          "base_uri": "https://localhost:8080/"
        }
      },
      "execution_count": 51,
      "outputs": [
        {
          "output_type": "stream",
          "name": "stdout",
          "text": [
            "Pekerjaan Keluarga\n",
            "ayah sedang beri makan hewan\n",
            "ibu sedang memasak\n",
            "anak belajar pertambahan 20+10 = 30\n"
          ]
        }
      ]
    },
    {
      "cell_type": "markdown",
      "source": [
        "##Polymorphism"
      ],
      "metadata": {
        "id": "qdUnLMl0UdXw"
      }
    },
    {
      "cell_type": "code",
      "source": [
        "class Binatang(object):\n",
        "  def __init__(self, nama, usia, jenis, mamalia):\n",
        "    self.nama = nama\n",
        "    self.usia = usia\n",
        "    self.jenis = jenis\n",
        "    self.mamalia = mamalia\n",
        "\n",
        "  def tidur(self, durasi):\n",
        "    for x in range(durasi):\n",
        "      print(\"ddrrr... ddrrr... \")\n",
        "\n",
        "  def info(self):\n",
        "    print(f\"nama: {self.nama}, usia: {self.usia}, jenis: {self.jenis}, mamalia: {self.mamalia}\")\n",
        "\n",
        "\n",
        "class Ikan(Binatang):\n",
        "  def __init__(self,  nama, usia, jenis, mamalia, warna, jenis_air, jenis_ikan):\n",
        "    super().__init__(nama, usia, jenis, mamalia)\n",
        "    self.warna = warna\n",
        "    self.jenis_air = jenis_air\n",
        "    self.jenis_ikan = jenis_ikan\n",
        "  \n",
        "  def berenang(self, durasi):\n",
        "    print(\"wushh... wush... \")\n",
        "\n",
        "  def info_ikan(self):\n",
        "    print(f\"warna: {self.warna}, jenis ikan: {self.jenis_ikan}, jenis air: {self.jenis_air}\")\n",
        "\n",
        "class Panda(Binatang):\n",
        "  def __init__(self, nama, usia, jenis, mamalia, warna):\n",
        "    super().__init__(nama, usia, jenis, mamalia)\n",
        "    self.warna = warna\n",
        "  \n",
        "  def makan_bambu(self, tangkai):\n",
        "    if tangkai >=5 :\n",
        "      print(\"kenyaang\")\n",
        "    else:\n",
        "      print(\"lapaar\")\n",
        "\n",
        "fish1 = Ikan(\"Jago\", 2, \"omnivora\", False, \"Merah Putih\", \"Tawar\", \"Cupang\")\n",
        "\n",
        "fish1.info()\n",
        "fish1.info_ikan()\n",
        "fish1.tidur(5)\n",
        "\n",
        "\n",
        "panda1 = Panda(\"Poo\", 4, \"herbivora\", True, \"Putih Hitam\")\n",
        "\n",
        "panda1.info()\n",
        "panda1.tidur(2)\n",
        "panda1.makan_bambu(5)"
      ],
      "metadata": {
        "colab": {
          "base_uri": "https://localhost:8080/"
        },
        "id": "4SbmcSiNTe6m",
        "outputId": "dcc175c3-58c0-46f2-8785-0e8c8e8daefa"
      },
      "execution_count": 52,
      "outputs": [
        {
          "output_type": "stream",
          "name": "stdout",
          "text": [
            "nama: Jago, usia: 2, jenis: omnivora, mamalia: False\n",
            "warna: Merah Putih, jenis ikan: Cupang, jenis air: Tawar\n",
            "ddrrr... ddrrr... \n",
            "ddrrr... ddrrr... \n",
            "ddrrr... ddrrr... \n",
            "ddrrr... ddrrr... \n",
            "ddrrr... ddrrr... \n",
            "nama: Poo, usia: 4, jenis: herbivora, mamalia: True\n",
            "ddrrr... ddrrr... \n",
            "ddrrr... ddrrr... \n",
            "kenyaang\n"
          ]
        }
      ]
    },
    {
      "cell_type": "code",
      "source": [
        ""
      ],
      "metadata": {
        "id": "fEOGHdZWUkxK"
      },
      "execution_count": null,
      "outputs": []
    }
  ]
}