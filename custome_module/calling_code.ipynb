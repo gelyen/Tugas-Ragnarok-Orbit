{
 "cells": [
  {
   "cell_type": "markdown",
   "id": "4832f7ca",
   "metadata": {},
   "source": [
    "## Abstraction"
   ]
  },
  {
   "cell_type": "code",
   "execution_count": 25,
   "id": "0569801d",
   "metadata": {},
   "outputs": [],
   "source": [
    "import keluarga as klg"
   ]
  },
  {
   "cell_type": "code",
   "execution_count": 26,
   "id": "84344981",
   "metadata": {},
   "outputs": [],
   "source": [
    "anakk = klg.anak()"
   ]
  },
  {
   "cell_type": "code",
   "execution_count": 27,
   "id": "efe43f68",
   "metadata": {},
   "outputs": [
    {
     "ename": "TypeError",
     "evalue": "tugas() missing 2 required positional arguments: 'a' and 'b'",
     "output_type": "error",
     "traceback": [
      "\u001b[1;31m---------------------------------------------------------------------------\u001b[0m",
      "\u001b[1;31mTypeError\u001b[0m                                 Traceback (most recent call last)",
      "\u001b[1;32m~\\AppData\\Local\\Temp/ipykernel_13372/713288027.py\u001b[0m in \u001b[0;36m<module>\u001b[1;34m\u001b[0m\n\u001b[1;32m----> 1\u001b[1;33m \u001b[0manakk\u001b[0m\u001b[1;33m.\u001b[0m\u001b[0mtugas\u001b[0m\u001b[1;33m(\u001b[0m\u001b[1;33m)\u001b[0m\u001b[1;33m\u001b[0m\u001b[1;33m\u001b[0m\u001b[0m\n\u001b[0m",
      "\u001b[1;31mTypeError\u001b[0m: tugas() missing 2 required positional arguments: 'a' and 'b'"
     ]
    }
   ],
   "source": [
    "anakk.tugas()"
   ]
  },
  {
   "cell_type": "code",
   "execution_count": 28,
   "id": "bf3087da",
   "metadata": {},
   "outputs": [
    {
     "name": "stdout",
     "output_type": "stream",
     "text": [
      "anak belajar pertambahan 10+30 = 40\n"
     ]
    }
   ],
   "source": [
    "anakk.tugas(10,30)"
   ]
  },
  {
   "cell_type": "markdown",
   "id": "d4f1f7f5",
   "metadata": {},
   "source": [
    "## Inheritence"
   ]
  },
  {
   "cell_type": "code",
   "execution_count": 1,
   "id": "6828c666",
   "metadata": {},
   "outputs": [],
   "source": [
    "import pajak as pjk"
   ]
  },
  {
   "cell_type": "code",
   "execution_count": 4,
   "id": "156751bb",
   "metadata": {},
   "outputs": [],
   "source": [
    "ktp = pjk.KTP(12312413123, \"Timothy\", 20, \"Manado\")"
   ]
  },
  {
   "cell_type": "code",
   "execution_count": 5,
   "id": "23031c32",
   "metadata": {},
   "outputs": [
    {
     "name": "stdout",
     "output_type": "stream",
     "text": [
      "Bayar Pajak\n",
      "........\n"
     ]
    }
   ],
   "source": [
    "ktp.cukup()"
   ]
  },
  {
   "cell_type": "code",
   "execution_count": 6,
   "id": "20760959",
   "metadata": {},
   "outputs": [],
   "source": [
    "ktp = pjk.KTP(176767467123, \"Gelyen\", 16, \"Manado\")"
   ]
  },
  {
   "cell_type": "code",
   "execution_count": 7,
   "id": "284a666e",
   "metadata": {},
   "outputs": [
    {
     "name": "stdout",
     "output_type": "stream",
     "text": [
      "Belum membayar pajak\n",
      "........\n"
     ]
    }
   ],
   "source": [
    "ktp.cukup()"
   ]
  },
  {
   "cell_type": "markdown",
   "id": "4a4bb725",
   "metadata": {},
   "source": [
    "## Polymorphism"
   ]
  },
  {
   "cell_type": "code",
   "execution_count": 9,
   "id": "5310d391",
   "metadata": {},
   "outputs": [],
   "source": [
    "import pegawai as pg"
   ]
  },
  {
   "cell_type": "code",
   "execution_count": 14,
   "id": "6d899fea",
   "metadata": {},
   "outputs": [],
   "source": [
    "hon = pg.honorer(1234234523, \"assa\", 29, \"S.kom\", \"K2\")"
   ]
  },
  {
   "cell_type": "code",
   "execution_count": 16,
   "id": "c6bcca9c",
   "metadata": {},
   "outputs": [
    {
     "name": "stdout",
     "output_type": "stream",
     "text": [
      "Lama waktu kerja 5 Jam\n",
      "Gaji terpotong\n"
     ]
    }
   ],
   "source": [
    "hon.kerja(5)\n",
    "hon.lama_kerja(5)"
   ]
  },
  {
   "cell_type": "code",
   "execution_count": 17,
   "id": "ec0e6f51",
   "metadata": {},
   "outputs": [
    {
     "name": "stdout",
     "output_type": "stream",
     "text": [
      "Lama waktu kerja 13 Jam\n",
      "Gaji anda tidak terpotong\n"
     ]
    }
   ],
   "source": [
    "hon.kerja(13)\n",
    "hon.lama_kerja(13)"
   ]
  },
  {
   "cell_type": "markdown",
   "id": "93eb1b57",
   "metadata": {},
   "source": [
    "## Encapsulation"
   ]
  },
  {
   "cell_type": "code",
   "execution_count": 18,
   "id": "497121ec",
   "metadata": {},
   "outputs": [],
   "source": [
    "import kartuMahasiswa as ktm"
   ]
  },
  {
   "cell_type": "code",
   "execution_count": 21,
   "id": "8c25afd6",
   "metadata": {},
   "outputs": [],
   "source": [
    "Ktm = ktm.KTM(67201817, \"timothy\", 19, \"FTI\", \"TI\")"
   ]
  },
  {
   "cell_type": "code",
   "execution_count": 22,
   "id": "e506ca5d",
   "metadata": {},
   "outputs": [
    {
     "name": "stdout",
     "output_type": "stream",
     "text": [
      "NIM: 67201817, Nama: timothy, Usia: 19, Fakultas: FTI, Jurusan: TI\n"
     ]
    }
   ],
   "source": [
    "Ktm.info()"
   ]
  }
 ],
 "metadata": {
  "kernelspec": {
   "display_name": "Python 3 (ipykernel)",
   "language": "python",
   "name": "python3"
  },
  "language_info": {
   "codemirror_mode": {
    "name": "ipython",
    "version": 3
   },
   "file_extension": ".py",
   "mimetype": "text/x-python",
   "name": "python",
   "nbconvert_exporter": "python",
   "pygments_lexer": "ipython3",
   "version": "3.8.8"
  }
 },
 "nbformat": 4,
 "nbformat_minor": 5
}
