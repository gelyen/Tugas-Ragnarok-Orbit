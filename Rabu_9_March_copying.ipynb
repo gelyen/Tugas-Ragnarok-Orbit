{
  "nbformat": 4,
  "nbformat_minor": 0,
  "metadata": {
    "colab": {
      "name": "Rabu_9_March_copying.ipynb",
      "provenance": [],
      "collapsed_sections": []
    },
    "kernelspec": {
      "name": "python3",
      "display_name": "Python 3"
    },
    "language_info": {
      "name": "python"
    }
  },
  "cells": [
    {
      "cell_type": "markdown",
      "source": [
        "##Numpy"
      ],
      "metadata": {
        "id": "nRmZkELR9a-n"
      }
    },
    {
      "cell_type": "code",
      "source": [
        "import numpy as np\n",
        "\n",
        "# Creating a Basic Array in Numpy\n",
        "X=np.array([1,2,3,5,5])"
      ],
      "metadata": {
        "id": "PqSfSdcv9JEk"
      },
      "execution_count": 4,
      "outputs": []
    },
    {
      "cell_type": "markdown",
      "source": [
        "###mean"
      ],
      "metadata": {
        "id": "4iFoie4x9l1f"
      }
    },
    {
      "cell_type": "code",
      "source": [
        "# Mean using Numpy\n",
        "print(\"Data\",X)\n",
        "print(\"Mean:\",np.mean(X))"
      ],
      "metadata": {
        "colab": {
          "base_uri": "https://localhost:8080/"
        },
        "id": "QvNoNgvR9TaL",
        "outputId": "884e4fe4-a2f7-421b-8007-e26dc334fa77"
      },
      "execution_count": 3,
      "outputs": [
        {
          "output_type": "stream",
          "name": "stdout",
          "text": [
            "Data [1 2 3 5 5]\n",
            "Mean: 3.2\n"
          ]
        }
      ]
    },
    {
      "cell_type": "markdown",
      "source": [
        "###median"
      ],
      "metadata": {
        "id": "4xXcHbfh9u5s"
      }
    },
    {
      "cell_type": "code",
      "source": [
        "# Finding Median of X\n",
        "print(\"Data\",X)\n",
        "print(\"Median\",np.median(X))"
      ],
      "metadata": {
        "colab": {
          "base_uri": "https://localhost:8080/"
        },
        "id": "jOgaV2n09oXZ",
        "outputId": "12e137b5-113c-4307-ec79-59d06ab27895"
      },
      "execution_count": 5,
      "outputs": [
        {
          "output_type": "stream",
          "name": "stdout",
          "text": [
            "Data [1 2 3 5 5]\n",
            "Median 3.0\n"
          ]
        }
      ]
    },
    {
      "cell_type": "markdown",
      "source": [
        "###modus"
      ],
      "metadata": {
        "id": "ZtQgp0wd92aB"
      }
    },
    {
      "cell_type": "code",
      "source": [
        "# Finding Mode using numpy\n",
        "print(\"Data\",X)\n",
        "vals,counts = np.unique(X, return_counts=True)\n",
        "index = np.argmax(counts)\n",
        "print(\"Mode numpy:\",vals[index])"
      ],
      "metadata": {
        "colab": {
          "base_uri": "https://localhost:8080/"
        },
        "id": "rrgrmmZR9wi7",
        "outputId": "11f2a322-6408-4d38-c567-873dd5e89ece"
      },
      "execution_count": 6,
      "outputs": [
        {
          "output_type": "stream",
          "name": "stdout",
          "text": [
            "Data [1 2 3 5 5]\n",
            "Mode numpy: 5\n"
          ]
        }
      ]
    },
    {
      "cell_type": "markdown",
      "source": [
        "##SCIPY\n"
      ],
      "metadata": {
        "id": "le2yuA4j9GZZ"
      }
    },
    {
      "cell_type": "code",
      "source": [
        "# Finding Mode using Scipy\n",
        "\n",
        "from scipy import stats\n",
        "print(\"Mode scipy:\",stats.mode(X))"
      ],
      "metadata": {
        "colab": {
          "base_uri": "https://localhost:8080/"
        },
        "id": "smc-tkXa934e",
        "outputId": "465fadb8-eaf5-418e-f440-05fba1756c7f"
      },
      "execution_count": 7,
      "outputs": [
        {
          "output_type": "stream",
          "name": "stdout",
          "text": [
            "Mode scipy: ModeResult(mode=array([5]), count=array([2]))\n"
          ]
        }
      ]
    }
  ]
}