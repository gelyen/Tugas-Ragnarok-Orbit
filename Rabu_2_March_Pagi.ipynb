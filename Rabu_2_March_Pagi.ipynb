{
  "nbformat": 4,
  "nbformat_minor": 0,
  "metadata": {
    "colab": {
      "name": "Rabu_2_March_Pagi.ipynb",
      "provenance": [],
      "collapsed_sections": []
    },
    "kernelspec": {
      "name": "python3",
      "display_name": "Python 3"
    },
    "language_info": {
      "name": "python"
    }
  },
  "cells": [
    {
      "cell_type": "markdown",
      "source": [
        "# Tugas Sesi Pagi"
      ],
      "metadata": {
        "id": "rpO_APpFpeef"
      }
    },
    {
      "cell_type": "markdown",
      "source": [
        "## No1\n",
        "\n",
        "**hasil ini saya buat dahulu sebelum di coding**\n",
        "\n",
        "Berikut ini adalah tiga variabel yang menyimpan value dengan tipe boolean. Dengan menggunakan variabel tersebut, cobalah untuk mengerjakan soal 1 - 5 ! (Akan lebih seru jika kamu menebak terlebih dahulu hasilnya, kemudian baru implementasikan ke dalam kode program. Jika terdapat error, cobalah untuk menyelesaikannya sendiri terlebih dahulu)."
      ],
      "metadata": {
        "id": "1-HY5ZqEPDxv"
      }
    },
    {
      "cell_type": "markdown",
      "source": [
        "\n",
        "a = False\n",
        "b = True\n",
        "c = False\n",
        "\n",
        "1. (b and c)\n",
        "2. b or c\n",
        "3. not a and b\n",
        "4. (a and b) or not c\n",
        "5. not b and not (a or c) \n",
        "\n",
        "- False\n",
        "- True\n",
        "- True\n",
        "- True\n",
        "- True\n"
      ],
      "metadata": {
        "id": "smZ1VntzplDv"
      }
    },
    {
      "cell_type": "code",
      "execution_count": null,
      "metadata": {
        "id": "wywaM5E9pbxI"
      },
      "outputs": [],
      "source": [
        "a = False\n",
        "b = True\n",
        "c = False"
      ]
    },
    {
      "cell_type": "code",
      "source": [
        "satu = b and c\n",
        "satu"
      ],
      "metadata": {
        "colab": {
          "base_uri": "https://localhost:8080/"
        },
        "id": "_P0kYAhXrOTF",
        "outputId": "cdbc643e-e228-43dd-fcc8-91e028dad917"
      },
      "execution_count": null,
      "outputs": [
        {
          "output_type": "execute_result",
          "data": {
            "text/plain": [
              "False"
            ]
          },
          "metadata": {},
          "execution_count": 8
        }
      ]
    },
    {
      "cell_type": "code",
      "source": [
        "dua = b or c\n",
        "dua"
      ],
      "metadata": {
        "colab": {
          "base_uri": "https://localhost:8080/"
        },
        "id": "yg4SqoQOqzGr",
        "outputId": "68bb0c6d-66b8-4b2c-92ee-5ad54824242f"
      },
      "execution_count": null,
      "outputs": [
        {
          "output_type": "execute_result",
          "data": {
            "text/plain": [
              "True"
            ]
          },
          "metadata": {},
          "execution_count": 7
        }
      ]
    },
    {
      "cell_type": "code",
      "source": [
        "tiga = (not a) and b\n",
        "tiga"
      ],
      "metadata": {
        "colab": {
          "base_uri": "https://localhost:8080/"
        },
        "id": "yyr4Q51TrGr4",
        "outputId": "05a53614-159b-4a4a-d65b-6fe8fc719814"
      },
      "execution_count": null,
      "outputs": [
        {
          "output_type": "execute_result",
          "data": {
            "text/plain": [
              "True"
            ]
          },
          "metadata": {},
          "execution_count": 10
        }
      ]
    },
    {
      "cell_type": "code",
      "source": [
        "empat = (a and b) or (not c)\n",
        "empat"
      ],
      "metadata": {
        "colab": {
          "base_uri": "https://localhost:8080/"
        },
        "id": "ULptGVGgrzw4",
        "outputId": "3b50e4c2-9868-4e23-a20f-30af341bde35"
      },
      "execution_count": null,
      "outputs": [
        {
          "output_type": "execute_result",
          "data": {
            "text/plain": [
              "True"
            ]
          },
          "metadata": {},
          "execution_count": 12
        }
      ]
    },
    {
      "cell_type": "code",
      "source": [
        "lima = not b and not (a or c)\n",
        "lima"
      ],
      "metadata": {
        "colab": {
          "base_uri": "https://localhost:8080/"
        },
        "id": "tWOg8U7Kr-Vq",
        "outputId": "0bdfd8ba-ec9e-403b-9d1f-e73662af5b5d"
      },
      "execution_count": null,
      "outputs": [
        {
          "output_type": "execute_result",
          "data": {
            "text/plain": [
              "False"
            ]
          },
          "metadata": {},
          "execution_count": 16
        }
      ]
    },
    {
      "cell_type": "markdown",
      "source": [
        "## No. 2\n",
        "Di bawah ini terdapat potongan kode program yang masih terdapat error (bug). Selesaikan permasalahan bug tersebut menggunakan pemahaman yang sudah dipelajari!"
      ],
      "metadata": {
        "id": "xNuwlr-5O5cW"
      }
    },
    {
      "cell_type": "markdown",
      "source": [
        "\n",
        "print(Hello!)\n",
        "\n",
        "something==input('Enter Something: )\n",
        "\n",
        "print('you entered:' something)"
      ],
      "metadata": {
        "id": "-EkLMNxHtBXP"
      }
    },
    {
      "cell_type": "code",
      "source": [
        "#jawaban untuk no2\n",
        "print(\"Hello!\") #disini kurang dalam tanda kutip\n",
        "something = input('Enter Something: ') #lalu disini tanda = berlebihan dan tanda petik atas kurang di akhir\n",
        "print ('you entered:', something) #lalu disini menggunakan tanda koma sebelum something"
      ],
      "metadata": {
        "colab": {
          "base_uri": "https://localhost:8080/"
        },
        "id": "tHQalTk7sZoO",
        "outputId": "47949ecd-f6f9-4243-a6d2-f6646e7e4b25"
      },
      "execution_count": null,
      "outputs": [
        {
          "output_type": "stream",
          "name": "stdout",
          "text": [
            "Hello!\n",
            "Enter Something: timothy\n",
            "you entered: timothy\n"
          ]
        }
      ]
    },
    {
      "cell_type": "markdown",
      "source": [
        "##No. 3\n",
        "Lakukan hal yang sama seperti pada soal nomor 2!"
      ],
      "metadata": {
        "id": "ZPzas5kvOp3Q"
      }
    },
    {
      "cell_type": "markdown",
      "source": [
        "\n",
        "print('hello!')\n",
        "\n",
        "something = input(\"enter something:\")\n",
        "\n",
        "if something = 'hello'\n",
        "\n",
        "  print(\"hello for you too!\")\n",
        "\n",
        "elif something = 'hi'\n",
        "\n",
        "  print('hi there!')\n",
        "\n",
        "else:\n",
        "\n",
        "  print(\"I dont know what,\" something, \"means\")"
      ],
      "metadata": {
        "id": "sVOqyEKWxgiG"
      }
    },
    {
      "cell_type": "code",
      "source": [
        "print('hello!')\n",
        "something = input(\"enter something:\")\n",
        "if (something == 'hello'): #kekurangan tanda = lalu tanda buka dan tutup kurung lalu tanda titik dua\n",
        "  print(\"hello for you too!\") \n",
        "elif (something == 'hi'):\n",
        "  print('hi there!')\n",
        "else:\n",
        "  print(\"I dont know what \"+ something +\" means\")"
      ],
      "metadata": {
        "colab": {
          "base_uri": "https://localhost:8080/"
        },
        "id": "WSuYL7Mtt5Rq",
        "outputId": "10614151-3536-43dd-db61-73017c2cffd2"
      },
      "execution_count": null,
      "outputs": [
        {
          "output_type": "stream",
          "name": "stdout",
          "text": [
            "hello!\n",
            "enter something:hello\n",
            "hello for you too!\n"
          ]
        }
      ]
    },
    {
      "cell_type": "code",
      "source": [
        "print('hello!')\n",
        "something = input(\"enter something:\")\n",
        "if (something == 'hello'):\n",
        "  print(\"hello for you too!\")\n",
        "elif (something == 'hi'): #kekurangan tanda = lalu tanda buka dan tutup kurung lalu tanda titik dua\n",
        "  print('hi there!')\n",
        "else:\n",
        "  print(\"I dont know what \"+ something +\" means\")"
      ],
      "metadata": {
        "colab": {
          "base_uri": "https://localhost:8080/"
        },
        "id": "sZYCzbU2yfjG",
        "outputId": "80ca1ac8-29f2-4c02-c3c0-c2ee10578326"
      },
      "execution_count": null,
      "outputs": [
        {
          "output_type": "stream",
          "name": "stdout",
          "text": [
            "hello!\n",
            "enter something:hi\n",
            "hi there!\n"
          ]
        }
      ]
    },
    {
      "cell_type": "code",
      "source": [
        "print('hello!')\n",
        "something = input(\"enter something:\")\n",
        "if (something == 'hello'):\n",
        "  print(\"hello for you too!\")\n",
        "elif (something == 'hi'):\n",
        "  print('hi there!')\n",
        "else:\n",
        "  print(\"I dont know what \"+ something +\" means\") #untuk penguhubung di tengah tengah menggunakan tanda plus sebagai penguhubung"
      ],
      "metadata": {
        "colab": {
          "base_uri": "https://localhost:8080/"
        },
        "id": "fGd9Qz78z0ic",
        "outputId": "ee3a7bc8-cd56-47ac-8ec8-44e8d4d92786"
      },
      "execution_count": null,
      "outputs": [
        {
          "output_type": "stream",
          "name": "stdout",
          "text": [
            "hello!\n",
            "enter something:pagi\n",
            "I dont know what pagi means\n"
          ]
        }
      ]
    },
    {
      "cell_type": "markdown",
      "source": [
        "## No4\n",
        "\n",
        "Buatlah program yang dapat mencetak kata halo dan hai sebanyak 100 kali. contoh: halo hai halo hai … 98x !. Pastikan terdapat spasi di antara setiap perulangan kata!"
      ],
      "metadata": {
        "id": "dwhLC2ZT6FTu"
      }
    },
    {
      "cell_type": "code",
      "source": [
        "for i in range (0,100): \n",
        "  print(\"halo hai\")"
      ],
      "metadata": {
        "colab": {
          "base_uri": "https://localhost:8080/"
        },
        "id": "PtSqf1udz5ql",
        "outputId": "27e1cfa2-7d61-447e-e657-78b518dd1677"
      },
      "execution_count": null,
      "outputs": [
        {
          "output_type": "stream",
          "name": "stdout",
          "text": [
            "halo hai\n",
            "halo hai\n",
            "halo hai\n",
            "halo hai\n",
            "halo hai\n",
            "halo hai\n",
            "halo hai\n",
            "halo hai\n",
            "halo hai\n",
            "halo hai\n",
            "halo hai\n",
            "halo hai\n",
            "halo hai\n",
            "halo hai\n",
            "halo hai\n",
            "halo hai\n",
            "halo hai\n",
            "halo hai\n",
            "halo hai\n",
            "halo hai\n",
            "halo hai\n",
            "halo hai\n",
            "halo hai\n",
            "halo hai\n",
            "halo hai\n",
            "halo hai\n",
            "halo hai\n",
            "halo hai\n",
            "halo hai\n",
            "halo hai\n",
            "halo hai\n",
            "halo hai\n",
            "halo hai\n",
            "halo hai\n",
            "halo hai\n",
            "halo hai\n",
            "halo hai\n",
            "halo hai\n",
            "halo hai\n",
            "halo hai\n",
            "halo hai\n",
            "halo hai\n",
            "halo hai\n",
            "halo hai\n",
            "halo hai\n",
            "halo hai\n",
            "halo hai\n",
            "halo hai\n",
            "halo hai\n",
            "halo hai\n",
            "halo hai\n",
            "halo hai\n",
            "halo hai\n",
            "halo hai\n",
            "halo hai\n",
            "halo hai\n",
            "halo hai\n",
            "halo hai\n",
            "halo hai\n",
            "halo hai\n",
            "halo hai\n",
            "halo hai\n",
            "halo hai\n",
            "halo hai\n",
            "halo hai\n",
            "halo hai\n",
            "halo hai\n",
            "halo hai\n",
            "halo hai\n",
            "halo hai\n",
            "halo hai\n",
            "halo hai\n",
            "halo hai\n",
            "halo hai\n",
            "halo hai\n",
            "halo hai\n",
            "halo hai\n",
            "halo hai\n",
            "halo hai\n",
            "halo hai\n",
            "halo hai\n",
            "halo hai\n",
            "halo hai\n",
            "halo hai\n",
            "halo hai\n",
            "halo hai\n",
            "halo hai\n",
            "halo hai\n",
            "halo hai\n",
            "halo hai\n",
            "halo hai\n",
            "halo hai\n",
            "halo hai\n",
            "halo hai\n",
            "halo hai\n",
            "halo hai\n",
            "halo hai\n",
            "halo hai\n",
            "halo hai\n",
            "halo hai\n"
          ]
        }
      ]
    },
    {
      "cell_type": "code",
      "source": [
        "angka = 0\n",
        "while (angka < 100):\n",
        "  print('hai hallo')\n",
        "  angka=angka+1"
      ],
      "metadata": {
        "colab": {
          "base_uri": "https://localhost:8080/"
        },
        "id": "JmHNmhBw2wVc",
        "outputId": "baf12f21-6da5-48f8-991b-a2f0768bd81a"
      },
      "execution_count": null,
      "outputs": [
        {
          "output_type": "stream",
          "name": "stdout",
          "text": [
            "hai hallo\n",
            "hai hallo\n",
            "hai hallo\n",
            "hai hallo\n",
            "hai hallo\n",
            "hai hallo\n",
            "hai hallo\n",
            "hai hallo\n",
            "hai hallo\n",
            "hai hallo\n",
            "hai hallo\n",
            "hai hallo\n",
            "hai hallo\n",
            "hai hallo\n",
            "hai hallo\n",
            "hai hallo\n",
            "hai hallo\n",
            "hai hallo\n",
            "hai hallo\n",
            "hai hallo\n",
            "hai hallo\n",
            "hai hallo\n",
            "hai hallo\n",
            "hai hallo\n",
            "hai hallo\n",
            "hai hallo\n",
            "hai hallo\n",
            "hai hallo\n",
            "hai hallo\n",
            "hai hallo\n",
            "hai hallo\n",
            "hai hallo\n",
            "hai hallo\n",
            "hai hallo\n",
            "hai hallo\n",
            "hai hallo\n",
            "hai hallo\n",
            "hai hallo\n",
            "hai hallo\n",
            "hai hallo\n",
            "hai hallo\n",
            "hai hallo\n",
            "hai hallo\n",
            "hai hallo\n",
            "hai hallo\n",
            "hai hallo\n",
            "hai hallo\n",
            "hai hallo\n",
            "hai hallo\n",
            "hai hallo\n",
            "hai hallo\n",
            "hai hallo\n",
            "hai hallo\n",
            "hai hallo\n",
            "hai hallo\n",
            "hai hallo\n",
            "hai hallo\n",
            "hai hallo\n",
            "hai hallo\n",
            "hai hallo\n",
            "hai hallo\n",
            "hai hallo\n",
            "hai hallo\n",
            "hai hallo\n",
            "hai hallo\n",
            "hai hallo\n",
            "hai hallo\n",
            "hai hallo\n",
            "hai hallo\n",
            "hai hallo\n",
            "hai hallo\n",
            "hai hallo\n",
            "hai hallo\n",
            "hai hallo\n",
            "hai hallo\n",
            "hai hallo\n",
            "hai hallo\n",
            "hai hallo\n",
            "hai hallo\n",
            "hai hallo\n",
            "hai hallo\n",
            "hai hallo\n",
            "hai hallo\n",
            "hai hallo\n",
            "hai hallo\n",
            "hai hallo\n",
            "hai hallo\n",
            "hai hallo\n",
            "hai hallo\n",
            "hai hallo\n",
            "hai hallo\n",
            "hai hallo\n",
            "hai hallo\n",
            "hai hallo\n",
            "hai hallo\n",
            "hai hallo\n",
            "hai hallo\n",
            "hai hallo\n",
            "hai hallo\n",
            "hai hallo\n"
          ]
        }
      ]
    },
    {
      "cell_type": "markdown",
      "source": [
        "## No.5\n",
        "Rock paper scicors"
      ],
      "metadata": {
        "id": "9sixvOBk0Wf3"
      }
    },
    {
      "cell_type": "markdown",
      "source": [
        "### a. Tabel Kemenangan"
      ],
      "metadata": {
        "id": "yN4a55hSOUj-"
      }
    },
    {
      "cell_type": "markdown",
      "source": [
        "\n",
        "**Pemain1**|**Pemain2**|**Hasil**|\n",
        ":-----:|:-----:|:-----:\n",
        "Batu | Gunting | Pemain1 \n",
        "Gunting | Gunting | Seri\n",
        "Kertas | Gunting | Pemain2\n",
        "Batu | Batu | Seri \n",
        "Gunting | Batu | Pemain2\n",
        "Kertas | Batu | Pemain1\n",
        "Batu | Kertas | Pemain2 \n",
        "Gunting | Kertas | Pemain1\n",
        "Kertas | Kertas | Seri\n"
      ],
      "metadata": {
        "id": "4upTEeUa6Jwn"
      }
    },
    {
      "cell_type": "markdown",
      "source": [
        "### b. Code batu gunting kertas"
      ],
      "metadata": {
        "id": "XsYCsi1g0qeL"
      }
    },
    {
      "cell_type": "code",
      "source": [
        "#code untuk mengimputkan\n",
        "pemain1 = input(\"Player 1 masukan :\")\n",
        "pemain2 = input(\"Player 2 masukan :\")\n",
        "#code untuk if else nya\n",
        "if (pemain1 != 'batu' and 'gunting' and 'kertas'):\n",
        "  if (pemain2 != 'batu' and 'gunting' and 'kertas'):\n",
        "    print(\"inputan salah!\")\n",
        "if (pemain1 and pemain2 == 'batu' or 'gunting' or 'kertas'):\n",
        "    if (pemain1 == 'batu' and pemain2 == 'gunting'):\n",
        "      print(\"pemain 1 win\")\n",
        "    elif (pemain1 == 'batu' and pemain2 == 'batu'):\n",
        "      print(\"seri\")\n",
        "    elif (pemain1 == 'batu' and pemain2 == 'kertas'):\n",
        "      print(\"Pemain 2 win\")\n",
        "\n",
        "    if (pemain1 == 'gunting' and pemain2 == 'gunting'):\n",
        "      print(\"Seri\")\n",
        "    elif (pemain1 == 'gunting' and pemain2 == 'batu'):\n",
        "      print(\"Pemain 2 Win\")\n",
        "    elif (pemain1 == 'gunting' and pemain2 == 'kertas'):\n",
        "      print(\"Pemain 1 win\")\n",
        "\n",
        "    if (pemain1 == 'kertas' and pemain2 == 'gunting'):\n",
        "      print(\"Pemain 2 win\")\n",
        "    elif (pemain1 == 'kertas' and pemain2 == 'batu'):\n",
        "      print(\"Pemain 1 Win\")\n",
        "    elif (pemain1 == 'kertas' and pemain2 == 'kertas'):\n",
        "      print(\"Seri\")\n",
        "\n",
        "else:\n",
        "  print(\"permainan gagal\")"
      ],
      "metadata": {
        "id": "sjV4FpkHZy_J",
        "colab": {
          "base_uri": "https://localhost:8080/"
        },
        "outputId": "aace781d-06a9-4d2b-9b3b-8c6f1d95892c"
      },
      "execution_count": null,
      "outputs": [
        {
          "output_type": "stream",
          "name": "stdout",
          "text": [
            "Player 1 masukan :gelas\n",
            "Player 2 masukan :gunting\n",
            "inputan salah!\n"
          ]
        }
      ]
    },
    {
      "cell_type": "markdown",
      "source": [
        "## No6\n",
        "\n",
        "Buatlah program sederhana yang menerima input secara terus menerus, akan tetapi ketika input berupa string “berhenti”, maka program tersebut akan berhenti berjalan!"
      ],
      "metadata": {
        "id": "cjKd54gmAOFx"
      }
    },
    {
      "cell_type": "code",
      "source": [
        "result = 0\n",
        "while True:\n",
        "  line = input()\n",
        "  if line == \"berhenti\":\n",
        "    break\n",
        "  result += int(line)\n",
        "print(\"stop\")"
      ],
      "metadata": {
        "colab": {
          "base_uri": "https://localhost:8080/"
        },
        "id": "H3QvVBIAyAxz",
        "outputId": "25a8d83b-b8a7-4dd9-a2fe-638ce5eb64ee"
      },
      "execution_count": null,
      "outputs": [
        {
          "output_type": "stream",
          "name": "stdout",
          "text": [
            "1\n",
            "2\n",
            "3\n",
            "berhenti\n",
            "stop\n"
          ]
        }
      ]
    },
    {
      "cell_type": "markdown",
      "source": [
        "## No7\n",
        "\n",
        "Dengan menggunakan konsep yang sama pada soal nomor 6, buatlah program yang dapat menampilkan menu makanan atau tertentu (minimal 3 menu). Pengguna dapat memilih salah satu dari menu yang disediakan dan menampilkan kembali menu yang dipesan beserta harganya. Program akan berhenti berjalan apabila input dari pengguna berupa string “cukup”."
      ],
      "metadata": {
        "id": "TnCyZX5_AWxc"
      }
    },
    {
      "cell_type": "code",
      "source": [
        "result = 0\n",
        "print (\"Menu Pilihan Ketik Angka Sesuai Keinginan\")\n",
        "print (\"1.\tBakwan - Rp 1000\")\n",
        "print (\"2.\tDonat - Rp 1250\")\n",
        "print (\"3.\tOnde-onde - Rp 800\")\n",
        "print (\"4.\tLemper  - Rp 1250\")\n",
        "print (\"5.\tRisol - Rp 1500\")\n",
        "print (\"Jika ingin keluar click cukup\")\n",
        "\n",
        "while True:\n",
        "  menu = input(\"Masukan Angka Susuai Menu Pilihan: \")\n",
        "  if menu == \"1\":\n",
        "    print(\"Kamu memesan Donat dengan harga Rp 1250, terima kasih sudah berbelanja!\")\n",
        "  elif menu == \"2\":\n",
        "    print(\"Kamu memesan Bakwan dengan harga Rp 1000, terima kasih sudah berbelanja!\")\n",
        "  elif menu == \"3\":\n",
        "    print(\"Kamu memesan Onde-onde dengan harga Rp 800, terima kasih sudah berbelanja!\")\n",
        "  elif menu == \"4\":\n",
        "    print(\"Kamu memesan Lemper dengan harga Rp 1250, terima kasih sudah berbelanja!\")\n",
        "  elif menu == \"5\":\n",
        "    print(\"Kamu memesan Risol dengan harga Rp 1500, terima kasih sudah berbelanja!\")\n",
        "  elif menu == \"cukup\":\n",
        "    break\n",
        "  else:\n",
        "    print(\"menus salah\")\n",
        "  result += int(menu)\n",
        "print(\"Terima kasih sudah berbelanja jajanan pasar kami!\")"
      ],
      "metadata": {
        "colab": {
          "base_uri": "https://localhost:8080/"
        },
        "id": "ENOnR6Y12w2L",
        "outputId": "fe39cd6e-ad2d-40b6-e5f4-ba22c83401ed"
      },
      "execution_count": 1,
      "outputs": [
        {
          "output_type": "stream",
          "name": "stdout",
          "text": [
            "Menu Pilihan Ketik Angka Sesuai Keinginan\n",
            "1.\tBakwan - Rp 1000\n",
            "2.\tDonat - Rp 1250\n",
            "3.\tOnde-onde - Rp 800\n",
            "4.\tLemper  - Rp 1250\n",
            "5.\tRisol - Rp 1500\n",
            "Jika ingin keluar click cukup\n",
            "Masukan Angka Susuai Menu Pilihan: 2\n",
            "Kamu memesan Bakwan dengan harga Rp 1000, terima kasih sudah berbelanja!\n",
            "Masukan Angka Susuai Menu Pilihan: 3\n",
            "Kamu memesan Onde-onde dengan harga Rp 800, terima kasih sudah berbelanja!\n",
            "Masukan Angka Susuai Menu Pilihan: 1\n",
            "Kamu memesan Donat dengan harga Rp 1250, terima kasih sudah berbelanja!\n",
            "Masukan Angka Susuai Menu Pilihan: 4\n",
            "Kamu memesan Lemper dengan harga Rp 1250, terima kasih sudah berbelanja!\n",
            "Masukan Angka Susuai Menu Pilihan: 5\n",
            "Kamu memesan Risol dengan harga Rp 1500, terima kasih sudah berbelanja!\n",
            "Masukan Angka Susuai Menu Pilihan: cukup\n",
            "Terima kasih sudah berbelanja jajanan pasar kami!\n"
          ]
        }
      ]
    },
    {
      "cell_type": "markdown",
      "source": [
        "## No. 8 \n",
        "\n",
        "Buat program pada nomor 8 menjadi sedikit lebih kompleks dengan studi kasus tambahan apabila pengguna ingin membeli 10 Bakwan!"
      ],
      "metadata": {
        "id": "-fDYscfENqkv"
      }
    },
    {
      "cell_type": "code",
      "source": [
        "print (\"Menu\")\n",
        "print (\"1.\tBakwan - Rp 1000\")\n",
        "print (\"2.\tDonat - Rp 1250\")\n",
        "print (\"3.\tOnde-onde - Rp 800\")\n",
        "print (\"4.\tLemper  - Rp 1250\")\n",
        "print (\"5.\tRisol - Rp 1500\")\n",
        "print (\"Jika ingin keluar ketik cukup lalu 0\")\n",
        "b = 1000\n",
        "d = 1250\n",
        "onde = 800\n",
        "lemper = 1250\n",
        "risol = 1500\n",
        "\n",
        "option = input(\"masukan nomor menu pilihan: \")\n",
        "o = int(input(\"masukan jumlah yang di inginkan: \"))\n",
        "\n",
        "while True:\n",
        "\n",
        "  if option == \"1\":\n",
        "    bh = o * b \n",
        "    print(\"Kamu memesan bakwan \"+str(o)+\" dengan harga Rp\"+ str(bh) +\", terima kasih sudah berbelanja!\")\n",
        "  elif option == \"2\":\n",
        "    bh = o * d\n",
        "    print(\"Kamu memesan Donat \"+str(o)+\" dengan harga Rp\"+str(bh)+\", terima kasih sudah berbelanja!\")\n",
        "  elif option == \"3\":\n",
        "    bh = o * onde\n",
        "    print(\"Kamu memesan Onde-onde \"+str(o)+\" dengan harga Rp\"+str(bh)+\", terima kasih sudah berbelanja!\")\n",
        "  elif option == \"4\":\n",
        "    bh = o * lemper\n",
        "    print(\"Kamu memesan Lemper \"+str(o)+\" dengan harga Rp\"+str(bh)+\", terima kasih sudah berbelanja!\")\n",
        "  elif option == \"5\":\n",
        "    bh = o * risol\n",
        "    print(\"Kamu memesan Risol \"+str(o)+\" dengan harga Rp\"+str(bh)+\", terima kasih sudah berbelanja!\")\n",
        "  elif menu == \"cukup\":\n",
        "    break\n",
        "  else:\n",
        "    print(\"tidak valid\")\n",
        "\n",
        "  print()\n",
        "  print (\"Menu\")\n",
        "  print (\"1.\tBakwan - Rp 1000\")\n",
        "  print (\"2.\tDonat - Rp 1250\")\n",
        "  print (\"3.\tOnde-onde - Rp 800\")\n",
        "  print (\"4.\tLemper  - Rp 1250\")\n",
        "  print (\"5.\tRisol - Rp 1500\")\n",
        "  print (\"Jika ingin keluar ketik cukup lalu 0\")\n",
        "  option = input(\"masukan nomor menu pilihan: \")\n",
        "  o = int(input(\"masukan jumlah yang di inginkan: \"))\n",
        "  \n",
        "print(\"Terima kasih sudah berbelanja jajanan pasar kami!\")"
      ],
      "metadata": {
        "id": "OCuOoT2yGGRS",
        "colab": {
          "base_uri": "https://localhost:8080/"
        },
        "outputId": "9ed833cb-803a-42b5-d4d0-3451fdc9f549"
      },
      "execution_count": 3,
      "outputs": [
        {
          "output_type": "stream",
          "name": "stdout",
          "text": [
            "Menu\n",
            "1.\tBakwan - Rp 1000\n",
            "2.\tDonat - Rp 1250\n",
            "3.\tOnde-onde - Rp 800\n",
            "4.\tLemper  - Rp 1250\n",
            "5.\tRisol - Rp 1500\n",
            "Jika ingin keluar ketik cukup lalu 0\n",
            "masukan nomor menu pilihan: cukup\n",
            "masukan jumlah yang di inginkan: 0\n",
            "Terima kasih sudah berbelanja jajanan pasar kami!\n"
          ]
        }
      ]
    },
    {
      "cell_type": "code",
      "source": [
        ""
      ],
      "metadata": {
        "id": "mKt4EFHLLIyc"
      },
      "execution_count": null,
      "outputs": []
    }
  ]
}