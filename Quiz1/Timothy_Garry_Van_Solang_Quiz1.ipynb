{
  "cells": [
    {
      "cell_type": "markdown",
      "id": "b2cc7971",
      "metadata": {
        "id": "b2cc7971"
      },
      "source": [
        "## Python OOP"
      ]
    },
    {
      "cell_type": "markdown",
      "id": "864eb653",
      "metadata": {
        "id": "864eb653"
      },
      "source": [
        "1. Apa Itu OOP, \n",
        "\n",
        "    OOP adalah object oriented programing dimana memiliki class yang berisi fungsi-fungsi lalu fungsi tersebut nanti nya dapat di akses dengan mudah. Dalam kata buku adalah paradigma pemrograman yang merepresentasikan objek seperti objek di sekitar kita dalam bentuk program bukan ke arah procedural namun ke arah objek nya atau usernya"
      ]
    },
    {
      "cell_type": "code",
      "execution_count": 2,
      "id": "dee8ce0d",
      "metadata": {
        "colab": {
          "base_uri": "https://localhost:8080/"
        },
        "id": "dee8ce0d",
        "outputId": "4f3a8eac-537d-4bb2-a4b3-96f2e7b39dad"
      },
      "outputs": [
        {
          "output_type": "stream",
          "name": "stdout",
          "text": [
            "Merek: LG, Jenis: speker No bass, warna: Hitam, harga: 100000\n",
            "Sound.... \n",
            "Harga : 100000\n"
          ]
        }
      ],
      "source": [
        "#Encapsultion\n",
        "class speaker(object):\n",
        "    \n",
        "    nama_merk = \"\"\n",
        "    def __init__(selfie, merek, jenis, warna, harga):\n",
        "        selfie.merek = merek\n",
        "        selfie.jenis = jenis\n",
        "        selfie.warna = warna\n",
        "        selfie.harga = harga\n",
        "        speaker.nama_merk = merek\n",
        "\n",
        "    def cek_harga(selfie):\n",
        "        print(\"Harga :\", selfie.harga)\n",
        "\n",
        "    def cek_sound(selfie):\n",
        "        print(\"Sound.... \")\n",
        "    \n",
        "    def info(selfie):\n",
        "        print(f\"Merek: {selfie.merek}, Jenis: {selfie.jenis}, warna: {selfie.warna}, harga: {selfie.harga}\")\n",
        "\n",
        "\n",
        "Speaker = speaker(\"LG\", \"speker No bass\", \"Hitam\", 100000)\n",
        "\n",
        "Speaker.info()\n",
        "Speaker.cek_sound()\n",
        "\n",
        "Speaker.cek_harga()\n"
      ]
    },
    {
      "cell_type": "code",
      "execution_count": 7,
      "id": "75b207c9",
      "metadata": {
        "colab": {
          "base_uri": "https://localhost:8080/"
        },
        "id": "75b207c9",
        "outputId": "99a319e1-bc07-4a5e-b5bc-c16b4357d66f"
      },
      "outputs": [
        {
          "output_type": "stream",
          "name": "stdout",
          "text": [
            "Nama Pemilik: Ko Udil, Nama pelanggan: Gelyen, Alamat: Jl.sidorejo, Berapa kamar: 3, Harga: 13\n",
            "Diterima\n"
          ]
        }
      ],
      "source": [
        "#inheritence\n",
        "class kontrakan(object):\n",
        "    def __init__(self, pemilik, pelanggan, alamat, kamar, harga):\n",
        "        self.nama = pemilik\n",
        "        self.pelanggan = pelanggan\n",
        "        self.alamat = alamat\n",
        "        self.kamar = kamar\n",
        "        self.harga = harga\n",
        "\n",
        "    def pemesan(self, harga):\n",
        "        if (harga >= 15):\n",
        "            print(\"Mundur Mahal\")\n",
        "        else:\n",
        "          print(\"Diterima\")\n",
        "\n",
        "    def info(self):\n",
        "        print(f\"Nama Pemilik: {self.nama}, Nama pelanggan: {self.pelanggan}, Alamat: {self.alamat}, Berapa kamar: {self.kamar}, Harga: {self.harga}\")\n",
        "\n",
        "\n",
        "kontrak = kontrakan(\"Ko Udil\", \"Gelyen\", \"Jl.sidorejo\", 3, 13)\n",
        "\n",
        "kontrak.info()\n",
        "kontrak.pemesan(13)"
      ]
    },
    {
      "cell_type": "markdown",
      "id": "fc798328",
      "metadata": {
        "id": "fc798328"
      },
      "source": [
        "2. sebutkan dan jelaskan 2 module dalam python?\n",
        "\n",
        "    Module dalam python: math, pandas. math yaitu library dalam pythong untuk menggunakan operasi matematika seperti menghitung log & akar2 dsb. pandas adalah library untuk memanipulasi data dan analisis data."
      ]
    },
    {
      "cell_type": "markdown",
      "source": [
        "3. perhitungan matematika menggunakan math\n"
      ],
      "metadata": {
        "id": "O13IDlC_REqv"
      },
      "id": "O13IDlC_REqv"
    },
    {
      "cell_type": "code",
      "execution_count": 8,
      "id": "1107771f",
      "metadata": {
        "id": "1107771f"
      },
      "outputs": [],
      "source": [
        "import math as mt"
      ]
    },
    {
      "cell_type": "code",
      "execution_count": 9,
      "id": "25f94b3f",
      "metadata": {
        "id": "25f94b3f"
      },
      "outputs": [],
      "source": [
        "a = mt.sqrt"
      ]
    },
    {
      "cell_type": "code",
      "execution_count": 21,
      "id": "42de550e",
      "metadata": {
        "colab": {
          "base_uri": "https://localhost:8080/"
        },
        "id": "42de550e",
        "outputId": "41025fdd-9603-4988-be38-526db876674d"
      },
      "outputs": [
        {
          "output_type": "execute_result",
          "data": {
            "text/plain": [
              "18.358591451796386"
            ]
          },
          "metadata": {},
          "execution_count": 21
        }
      ],
      "source": [
        "A = a(175)\n",
        "B = 7**(1/4)\n",
        "C = (1/3)\n",
        "D = mt.log(81, 4)\n",
        "hasil = A + B + C + D\n",
        "hasil"
      ]
    },
    {
      "cell_type": "markdown",
      "id": "8c831fc7",
      "metadata": {
        "id": "8c831fc7"
      },
      "source": [
        "4. Apa itu Custom expcetion handling dan berikan contoh implementasi:\n",
        "\n",
        "    custom exception itu membuat sendiri keluaran eror yang di inginkan menggunakan try dan except\n"
      ]
    },
    {
      "cell_type": "code",
      "source": [
        "print(nama)"
      ],
      "metadata": {
        "colab": {
          "base_uri": "https://localhost:8080/",
          "height": 172
        },
        "id": "Tm7bNIWYSXKv",
        "outputId": "c042ffc6-8358-4fec-b48a-0d98bb7013f4"
      },
      "id": "Tm7bNIWYSXKv",
      "execution_count": 22,
      "outputs": [
        {
          "output_type": "error",
          "ename": "NameError",
          "evalue": "ignored",
          "traceback": [
            "\u001b[0;31m---------------------------------------------------------------------------\u001b[0m",
            "\u001b[0;31mNameError\u001b[0m                                 Traceback (most recent call last)",
            "\u001b[0;32m<ipython-input-22-3a9484408404>\u001b[0m in \u001b[0;36m<module>\u001b[0;34m()\u001b[0m\n\u001b[0;32m----> 1\u001b[0;31m \u001b[0mprint\u001b[0m\u001b[0;34m(\u001b[0m\u001b[0mnama\u001b[0m\u001b[0;34m)\u001b[0m\u001b[0;34m\u001b[0m\u001b[0;34m\u001b[0m\u001b[0m\n\u001b[0m",
            "\u001b[0;31mNameError\u001b[0m: name 'nama' is not defined"
          ]
        }
      ]
    },
    {
      "cell_type": "code",
      "execution_count": 24,
      "id": "06681fce",
      "metadata": {
        "colab": {
          "base_uri": "https://localhost:8080/"
        },
        "id": "06681fce",
        "outputId": "ab015426-3b77-4df6-e433-3dabcd7d8c3a"
      },
      "outputs": [
        {
          "output_type": "stream",
          "name": "stdout",
          "text": [
            "name 'nama' is not defined\n",
            "tim\n"
          ]
        }
      ],
      "source": [
        "#try and except\n",
        "try:\n",
        "    print(nama)\n",
        "except:\n",
        "    print(\"name 'nama' is not defined\")\n",
        "nama = \"tim\"\n",
        "print(nama)"
      ]
    },
    {
      "cell_type": "markdown",
      "id": "0470433b",
      "metadata": {
        "id": "0470433b"
      },
      "source": [
        "## AI"
      ]
    },
    {
      "cell_type": "markdown",
      "id": "b3475705",
      "metadata": {
        "id": "b3475705"
      },
      "source": [
        "1. Perbedaan struktur dan unstruktur\n",
        "\n",
        "    struktur berupa data yang berbentuk table dan memiliki label sedangkan unstruktur tidak memiliki label dan tidak dalam bentuk table\n",
        "\n",
        "    contoh struktur: yaitu data quantitative seperti data banyak nya populasi di tiap daerah dalam bentuk table dll\n",
        "    \n",
        "    contoh unstruktur : yaitu data qualitative seperti data gambar, video, suara "
      ]
    },
    {
      "cell_type": "markdown",
      "id": "c20bc378",
      "metadata": {
        "id": "c20bc378"
      },
      "source": [
        "2. Jelaskan perbedaan dari AI,ML,DL\n",
        "\n",
        "    AI keseluruhan dari Ml dan Dl, AI itu kumpulan dari algoritma yang di pergunakan untuk membangun kecerdasan pada ML itu Algoritma yang menggunakan data untuk membangun kecerdasan sedangkan DL yaitu pembuatan rekayasa fitur otomatis untuk menentukan kesesuaian data dan hasil"
      ]
    },
    {
      "cell_type": "markdown",
      "source": [
        "3. Perbedaan ML dengan tradisional software\n",
        "\n",
        "    Penggunaan ML kita mampu menggunakan data dengan leluasa dan mengendalikan data tersebut menjadi sesuai dengan keinginan kita mulai dari data untuk memprediksi data untuk mengklasifikasi dll. Kemudahan untuk mengaplikasikan sangat banyak dari manufacturing sampai financial services. Pada tradisional software akan lebih bnyak yang akan dilakukan dalam membuat metode nya berjalan."
      ],
      "metadata": {
        "id": "pbPWiTNtVTVw"
      },
      "id": "pbPWiTNtVTVw"
    },
    {
      "cell_type": "markdown",
      "source": [
        "4. Machine learning di smart city dan argiculture\n",
        "\n",
        "    Berupa pengecekan pola kemacetan, memprediksi pola pengguna jalan dalam menggunakan jalan sampai angkutan, Mennganalisa emisi carbon\n",
        "\n",
        "    Menganalisa kesehatan tanah, menganalisa kesehatan daun dan batang, memprediksi banyak penjualan"
      ],
      "metadata": {
        "id": "vYP_qysWXSvh"
      },
      "id": "vYP_qysWXSvh"
    },
    {
      "cell_type": "markdown",
      "source": [
        "## Math For AI"
      ],
      "metadata": {
        "id": "x6F0Gf75ZTBs"
      },
      "id": "x6F0Gf75ZTBs"
    },
    {
      "cell_type": "markdown",
      "source": [
        "1. Mengapa matematika penting dalam AI\n",
        "\n",
        "    Dalam pembuatan AI terdapat bentuk matematika untuk memecahkan sebuah masalah bahkan dalam metode terdapat matematika peluang, aljabar linear, kalkulus."
      ],
      "metadata": {
        "id": "pjxpfK_1Zo7w"
      },
      "id": "pjxpfK_1Zo7w"
    },
    {
      "cell_type": "markdown",
      "source": [
        "2. Jelaskan perbedaan vektor dan skalar\n",
        "\n",
        "    Vektor itu besaran yang memiliki nilai dan arah sedangkan skalar konstanta atau besaran yang memiliki nilai "
      ],
      "metadata": {
        "id": "8TvbdyXOaEWd"
      },
      "id": "8TvbdyXOaEWd"
    },
    {
      "cell_type": "markdown",
      "source": [
        "3. Apa perbedaan jarak euclidiean distance dan manhattan\n",
        "    Mmeiliki perbedaan yaitu euclidean menghitung jarak garis lurus sedangkan manhattan panjang ruas garis dalam koordinat"
      ],
      "metadata": {
        "id": "kED5l-2ratdv"
      },
      "id": "kED5l-2ratdv"
    },
    {
      "cell_type": "markdown",
      "source": [
        "4. Apa kegunaan matriks dalam ilmu matematika ketika menerapkan ai\n",
        "\n",
        "    Data dalam model machine learning disimpan dalam sebuah matriks jadi untuk menggunakan data tersebut maka ilmu matematika dalam matriks sangat dibutuhkan dalam mengelola data"
      ],
      "metadata": {
        "id": "r-K4NnZSdFwD"
      },
      "id": "r-K4NnZSdFwD"
    },
    {
      "cell_type": "markdown",
      "source": [
        "## Machine Learning"
      ],
      "metadata": {
        "id": "V6XwhRU8eIGI"
      },
      "id": "V6XwhRU8eIGI"
    },
    {
      "cell_type": "markdown",
      "source": [
        "1. Supervised learning yaitu data training yang sudah memiliki label dan akan mengeluarkan data prediksi yang efektif\n",
        "\n",
        "  Unsupervised learning yaitu data yang tidak memiliki label jadi untuk memprediksi output dengan mencoba mengklasifikasi dengan melebeli sendiri sehingga output berikut data tersebut telah terklasifikasi dengan label\n",
        "\n",
        "2. machine learning life cycle \n",
        "\n",
        "  - Tentukan tujuan(temukan apa yang akan kita lakukan untuk memecahkan masalah)\n",
        "  - Kumpulkan data(saat sudah diketahui apa yang akan dilakukan maka cari lah data yang sesuai dengan apa yang kita lakukan)\n",
        "  - Siapkan Data(data yang sudah di dapat akan di cleaning data apa yang dibutuhkan saja agar mudah untuk di analisa sistem)\n",
        "  - pilih algoritma(tentukan algoritma yang cocok dengan data yang sudah di siapkan apakah clustering atau clasification dlnya)\n",
        "  - latih model(pilih data yang akan di trainning)\n",
        "  - tes model(data yang sudah di training tinggal di jalankan model yang dipilih)\n",
        "  - integrated model(menyiapkan model dengan merapikan data yang siap di tampilkan dengan menggabungkan semua model yang siap)"
      ],
      "metadata": {
        "id": "azgKOQzyeNXA"
      },
      "id": "azgKOQzyeNXA"
    },
    {
      "cell_type": "markdown",
      "source": [
        "3. Apa perbedaan regresi dan clustering \n",
        "    \n",
        "    Regresi membandingkan antar dua variable untuk digunakan sebagai prediksi\n",
        "\n",
        "    clustering mencari kemiripan dari grup data yang teridentifikasi lalu masukan ke grup yang memiliki kesamaan yang mirip"
      ],
      "metadata": {
        "id": "W-WcrN9vhs_t"
      },
      "id": "W-WcrN9vhs_t"
    },
    {
      "cell_type": "markdown",
      "source": [
        "4. Apa itu algoritma neural network dengan fungsi nya\n",
        "\n",
        "    ANN merupaka gabungan dari beberapa perceptron yang disusun dengan lapisan layer. memiliki fungsi mengklasifikasi pola memetakan pola menyimpan pola yang dapat di panggil lagi untuk di inputkan kembali yang di dapat dari output itu sendiri.\n",
        "    "
      ],
      "metadata": {
        "id": "r8k-NOFIis8B"
      },
      "id": "r8k-NOFIis8B"
    }
  ],
  "metadata": {
    "kernelspec": {
      "display_name": "Python 3 (ipykernel)",
      "language": "python",
      "name": "python3"
    },
    "language_info": {
      "codemirror_mode": {
        "name": "ipython",
        "version": 3
      },
      "file_extension": ".py",
      "mimetype": "text/x-python",
      "name": "python",
      "nbconvert_exporter": "python",
      "pygments_lexer": "ipython3",
      "version": "3.8.8"
    },
    "colab": {
      "name": "Timothy_Garry_Van_Solang_Quiz1.ipynb",
      "provenance": [],
      "collapsed_sections": [
        "b2cc7971"
      ]
    }
  },
  "nbformat": 4,
  "nbformat_minor": 5
}