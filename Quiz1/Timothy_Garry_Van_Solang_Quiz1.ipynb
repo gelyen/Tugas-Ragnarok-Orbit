{
 "cells": [
  {
   "cell_type": "markdown",
   "id": "b2cc7971",
   "metadata": {},
   "source": [
    "## Python OOP"
   ]
  },
  {
   "cell_type": "markdown",
   "id": "864eb653",
   "metadata": {},
   "source": [
    "Apa Itu OOP, OOP adalah object oriented programing dimana memiliki class yang berisi fungsi-fungsi lalu fungsi tersebut nanti nya dapat di akses dengan mudah"
   ]
  },
  {
   "cell_type": "code",
   "execution_count": 3,
   "id": "dee8ce0d",
   "metadata": {},
   "outputs": [
    {
     "name": "stdout",
     "output_type": "stream",
     "text": [
      "Merek: LG, Jenis: speker No bass, warna: Hitam, harga: 100000\n",
      "Harga : 100000\n"
     ]
    }
   ],
   "source": [
    "#Encapsultion\n",
    "class speaker(object):\n",
    "    \n",
    "    nama_merk = \"\"\n",
    "    def __init__(selfie, merek, jenis, warna, harga):\n",
    "        selfie.merek = merek\n",
    "        selfie.jenis = jenis\n",
    "        selfie.warna = warna\n",
    "        selfie.harga = harga\n",
    "        speaker.nama_merk = merek\n",
    "\n",
    "    def cek_harga(selfie):\n",
    "        print(\"Harga :\", selfie.harga)\n",
    "\n",
    "    def info(selfie):\n",
    "        print(f\"Merek: {selfie.merek}, Jenis: {selfie.jenis}, warna: {selfie.warna}, harga: {selfie.harga}\")\n",
    "\n",
    "\n",
    "Speaker = speaker(\"LG\", \"speker No bass\", \"Hitam\", 100000)\n",
    "\n",
    "Speaker.info()\n",
    "Speaker.cek_harga()"
   ]
  },
  {
   "cell_type": "code",
   "execution_count": 4,
   "id": "75b207c9",
   "metadata": {},
   "outputs": [
    {
     "name": "stdout",
     "output_type": "stream",
     "text": [
      "nama: cemong, usia: 1, jenis: omnivora, mamalia: True\n"
     ]
    }
   ],
   "source": [
    "#inheritence\n",
    "class Binatang(object):\n",
    "    def __init__(self, nama, usia, jenis, mamalia):\n",
    "        self.nama = nama\n",
    "        self.usia = usia\n",
    "        self.jenis = jenis\n",
    "        self.mamalia = mamalia\n",
    "\n",
    "    def tidur(self, durasi):\n",
    "        for x in range(durasi):\n",
    "            print(\"ddrrr... ddrrr... \")\n",
    "\n",
    "    def info(self):\n",
    "        print(f\"nama: {self.nama}, usia: {self.usia}, jenis: {self.jenis}, mamalia: {self.mamalia}\")\n",
    "\n",
    "\n",
    "animal1 = Binatang(\"cemong\", 1, \"omnivora\", True)\n",
    "\n",
    "animal1.info()"
   ]
  },
  {
   "cell_type": "markdown",
   "id": "fc798328",
   "metadata": {},
   "source": [
    "Module dalam python: math, pandas"
   ]
  },
  {
   "cell_type": "code",
   "execution_count": 5,
   "id": "1107771f",
   "metadata": {},
   "outputs": [],
   "source": [
    "import math as mt"
   ]
  },
  {
   "cell_type": "code",
   "execution_count": 6,
   "id": "25f94b3f",
   "metadata": {},
   "outputs": [],
   "source": [
    "akar = mt.sqrt"
   ]
  },
  {
   "cell_type": "code",
   "execution_count": 12,
   "id": "42de550e",
   "metadata": {},
   "outputs": [
    {
     "data": {
      "text/plain": [
       "13.228756555322953"
      ]
     },
     "execution_count": 12,
     "metadata": {},
     "output_type": "execute_result"
    }
   ],
   "source": [
    "akar(175)"
   ]
  },
  {
   "cell_type": "markdown",
   "id": "8c831fc7",
   "metadata": {},
   "source": [
    "Custom expcetion handling dan berikan contoh implementasi:\n",
    "\n",
    "custom exception itu membuat sendiri keluaran eror yang di inginkan menggunakan try dan except\n"
   ]
  },
  {
   "cell_type": "code",
   "execution_count": 17,
   "id": "06681fce",
   "metadata": {},
   "outputs": [
    {
     "name": "stdout",
     "output_type": "stream",
     "text": [
      "Tidak bisa, pembagian angka dengan 0\n",
      "6.0\n"
     ]
    }
   ],
   "source": [
    "a = 12\n",
    "b = 0\n",
    "\n",
    "try:\n",
    "    hasil = a/b\n",
    "    print(hasil)\n",
    "except:\n",
    "    print(\"Tidak bisa, pembagian angka dengan 0\")\n",
    "b = 2 + b\n",
    "print(a/b)"
   ]
  },
  {
   "cell_type": "markdown",
   "id": "0470433b",
   "metadata": {},
   "source": [
    "## AI"
   ]
  },
  {
   "cell_type": "markdown",
   "id": "b3475705",
   "metadata": {},
   "source": [
    "Perbedaan struktur dan unstruktur\n",
    "\n",
    "struktur berupa data yang berbentuk table dan memiliki label sedangkan unstruktur tidak memiliki label dan tidak dalam bentuk table\n",
    "\n",
    "contoh struktur: yaitu data quantitative seperti data banyak nya populasi di tiap daerah dalam bentuk table dll\n",
    "contoh unstruktur : yaitu data qualitative seperti data gambar, video, suara "
   ]
  },
  {
   "cell_type": "markdown",
   "id": "c20bc378",
   "metadata": {},
   "source": [
    "Jelaskan perbedaan dari AI,ML,DL\n",
    "\n",
    "AI keseluruhan dari Ml dan Dl dimana AI dibuat untuk membuat sesuatu atau robot untuk memecahkan masalahnya sendiri untuk membantu manusia sedangkan ML merepresentasiakn metode analisis untuk memudahkan machine untuk menggunakan metode yang di buat manusia ke dalam machine untuk mempelajari data dan merepresentasikan data tersebut lalu DL tidak mengcoding methodnya hanya coding struktur nya dan dibiarkan mencari jalannya sendiri"
   ]
  },
  {
   "cell_type": "code",
   "execution_count": null,
   "id": "40083c93",
   "metadata": {},
   "outputs": [],
   "source": [
    "Machine learning di smart city dan argiculture\n",
    "\n",
    "smart city aplikasinya dapat berupa memprediksi kemacetan dan mencari arah"
   ]
  }
 ],
 "metadata": {
  "kernelspec": {
   "display_name": "Python 3 (ipykernel)",
   "language": "python",
   "name": "python3"
  },
  "language_info": {
   "codemirror_mode": {
    "name": "ipython",
    "version": 3
   },
   "file_extension": ".py",
   "mimetype": "text/x-python",
   "name": "python",
   "nbconvert_exporter": "python",
   "pygments_lexer": "ipython3",
   "version": "3.8.8"
  }
 },
 "nbformat": 4,
 "nbformat_minor": 5
}
